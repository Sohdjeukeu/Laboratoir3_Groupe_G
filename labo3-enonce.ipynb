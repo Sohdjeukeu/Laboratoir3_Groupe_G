{
  "cells": [
    {
      "cell_type": "markdown",
      "metadata": {
        "id": "view-in-github",
        "colab_type": "text"
      },
      "source": [
        "<a href=\"https://colab.research.google.com/github/Sohdjeukeu/Laboratoir3_Groupe_G/blob/main/labo3-enonce.ipynb\" target=\"_parent\"><img src=\"https://colab.research.google.com/assets/colab-badge.svg\" alt=\"Open In Colab\"/></a>"
      ]
    },
    {
      "cell_type": "markdown",
      "metadata": {
        "hideCode": false,
        "hidePrompt": false,
        "id": "YPNp6HIAv9wW"
      },
      "source": [
        "# GTI720 - Protection des renseignements personnels\n",
        "\n",
        "## Laboratoire 3 : Geoprivacy"
      ]
    },
    {
      "cell_type": "markdown",
      "metadata": {
        "id": "9QyXXitqv9wX"
      },
      "source": [
        "# Description\n",
        "Le but de ce laboratoire est de vous familiariser avec l'analyse et les attaques par inférence sur des données géolocalisées. Plus précisément, vous allez travailler sur trois fichiers représentant les traces de mobilité de différents individus collectées pendant plusieurs mois. Pour deux d’entre eux, il s’agit de taxis de San Francisco, pour l’autre d’un individu Français. Il vous faudra analyser ces traces de mobilité en essayant d'y extraire des informations telles que les \"hotspots\" (points de la carte très fréquentées) et si c'est possible les points d'intérêts concernant les individus dont vous avez reçu les traces. Pour cela, vous utiliserez **Python dans ce notebook**, la visualisation de données géographiques, mais vous avez évidemment le droit d'utiliser d'autres sources publiques d'information (telles que PagesJaunes, YahooMaps ou Google Streetview par exemple)."
      ]
    },
    {
      "cell_type": "markdown",
      "metadata": {
        "id": "PVgcAz2av9wY"
      },
      "source": [
        "# Partie 0: Setup\n",
        "\n",
        "- Créer un environnement python nommé `geoprivacy`\n",
        "- Installer la librairie `scikit-mobility`"
      ]
    },
    {
      "cell_type": "markdown",
      "source": [
        "# installons la librairie scikit-mobility"
      ],
      "metadata": {
        "id": "5GSzmPy_v_wL"
      }
    },
    {
      "cell_type": "code",
      "source": [
        "#!pip install scikit-mobility"
      ],
      "metadata": {
        "id": "T1A5VqsTwJ6a"
      },
      "execution_count": 3,
      "outputs": []
    },
    {
      "cell_type": "code",
      "execution_count": 4,
      "metadata": {
        "id": "fSEUaqtGv9wZ"
      },
      "outputs": [],
      "source": [
        "import numpy as np\n",
        "import pandas as pd\n",
        "import datetime\n",
        "import matplotlib.pyplot as plt\n",
        "import skmob\n",
        "import folium"
      ]
    },
    {
      "cell_type": "code",
      "execution_count": 5,
      "metadata": {
        "id": "bJrRf5HPv9wZ"
      },
      "outputs": [],
      "source": [
        "def spacial_dist(lat_1, lng_1, lat_2, lng_2):\n",
        "    \"\"\"\n",
        "    Calcule la distance entre deux points. Les points doivent être exprimés\n",
        "    en coordoonées GPS (float). La distance est exprimée en mètre.\n",
        "    \"\"\"\n",
        "    if (lat_1 == lat_2 and lng_1 == lng_2):\n",
        "        return 0.0\n",
        "\n",
        "    er = 6366707\n",
        "    latFrom = np.radians(lat_1)\n",
        "    latTo = np.radians(lat_2)\n",
        "    lngFrom = np.radians(lng_1)\n",
        "    lngTo = np.radians(lng_2)\n",
        "\n",
        "    return np.arccos(\n",
        "        np.sin(latFrom) * np.sin(latTo)+\\\n",
        "        np.cos(latFrom) * np.cos(latTo) * np.cos(lngTo - lngFrom)\n",
        "        )* er"
      ]
    },
    {
      "cell_type": "code",
      "execution_count": 6,
      "metadata": {
        "id": "w8XayKktv9wa"
      },
      "outputs": [],
      "source": [
        "def time_diff(time_1, time_2):\n",
        "    \"\"\"\n",
        "    Calcul de la différence entre deux valeurs de datetime. La différence\n",
        "    est exprimée en seconde.\n",
        "    \"\"\"\n",
        "\n",
        "    return np.timedelta64(time_2 - time_1, 's').astype(\"int\") if time_2 > time_1 else np.timedelta64(time_1 - time_2, \"s\").astype(\"int\")"
      ]
    },
    {
      "cell_type": "code",
      "execution_count": 7,
      "metadata": {
        "id": "NUeSh_bvv9wa"
      },
      "outputs": [],
      "source": [
        "def calcul_vitesse_point(lat_1, lng_1, time_1, lat_2, lng_2, time_2):\n",
        "    \"\"\"\n",
        "    Calcul la vitesse entre deux points.\n",
        "\n",
        "    lat_1, lng_1, time_1 : latitude, longitude et temps du premier point\n",
        "    lat_2, lng_2, time_2 : latitude, longitude et temps du second point\n",
        "\n",
        "    return: vit, la vitesse entre ces deux points en mètre/seconde.\n",
        "\n",
        "    \"\"\"\n",
        "    return spacial_dist(lat_1, lng_1, lat_2, lng_2) / time_diff(time_1, time_2) if time_diff(time_1, time_2) > 0 else 0\n"
      ]
    },
    {
      "cell_type": "code",
      "execution_count": null,
      "metadata": {
        "id": "a9s7hU1Sv9wa"
      },
      "outputs": [],
      "source": [
        "# vectorisation de la focntion calcul_vitesse_point\n",
        "f = np.vectorize(calcul_vitesse_point)"
      ]
    },
    {
      "cell_type": "code",
      "execution_count": 8,
      "metadata": {
        "id": "YrpO8La8v9wa"
      },
      "outputs": [],
      "source": [
        "def plot_points(lat_array, lng_array, zoom=6):\n",
        "    \"\"\" Affiche les points représentés par lat_array et lng_array sur une carte Folium.\n",
        "    :lat_array: tableau des latitudes.\n",
        "    :lng_array: tableau des longitudes.\n",
        "\n",
        "    :return: une carte Folium des points.\n",
        "    \"\"\"\n",
        "\n",
        "    lat_array = np.array(lat_array)\n",
        "    lng_array = np.array(lng_array)\n",
        "\n",
        "    assert lat_array.shape[0] == lng_array.shape[0], \"Les tableaux de latitudes et longitudes ne sont pas de la meme taille !\"\n",
        "\n",
        "    size_a = lat_array.shape[0]\n",
        "    center = [np.sum(lat_array)/size_a, np.sum(lng_array)/size_a]\n",
        "    mymap = folium.Map(location=center, zoom_start=zoom, tiles='Stamen Toner')\n",
        "\n",
        "    for i in range(0, size_a):\n",
        "        folium.CircleMarker(location=[lat_array[i], lng_array[i]], radius=5, color='blue').add_to(mymap)\n",
        "\n",
        "    return mymap"
      ]
    },
    {
      "cell_type": "code",
      "execution_count": 9,
      "metadata": {
        "id": "deSOwdoYv9wa"
      },
      "outputs": [],
      "source": [
        "def compute_centroid(arr_lat, arr_lng):\n",
        "    \"\"\"\n",
        "    arr_lat: tableau des latitudes\n",
        "    arr_lng: tableau des longitudes\n",
        "    \"\"\"\n",
        "\n",
        "    xx = np.cos(np.radians(arr_lat)) * np.cos(np.radians(arr_lng))\n",
        "    yy = np.cos(np.radians(arr_lat)) * np.sin(np.radians(arr_lng))\n",
        "    zz = np.sin(np.radians(arr_lat))\n",
        "\n",
        "    xxx = xx.sum() / xx.shape[0]\n",
        "    yyy = yy.sum() / xx.shape[0]\n",
        "    zzz = zz.sum() / xx.shape[0]\n",
        "\n",
        "    assert (xx.shape[0] == yy.shape[0] and xx.shape[0] == zz.shape[0])\n",
        "\n",
        "    central_longitude = np.arctan2(yyy, xxx)\n",
        "    central_square_root = np.sqrt(xxx * xxx + yyy * yyy)\n",
        "    central_latitude = np.arctan2(zzz, central_square_root)\n",
        "\n",
        "    return np.array([np.degrees(central_latitude), np.degrees(central_longitude)])"
      ]
    },
    {
      "cell_type": "markdown",
      "metadata": {
        "hideCode": false,
        "hidePrompt": false,
        "id": "q_T5QvLuv9wa"
      },
      "source": [
        "# Partie 1 : Visualisation des données"
      ]
    },
    {
      "cell_type": "markdown",
      "metadata": {
        "id": "duqI6H4Qv9wb"
      },
      "source": [
        "Vous devez pour cette partie, lire et afficher ces traces de mobilités."
      ]
    },
    {
      "cell_type": "markdown",
      "metadata": {
        "id": "_B2RK7QPv9wb"
      },
      "source": [
        "### Q1 [5pts]\n",
        "- À partir des fichiers `ID1.csv`,`ID2.csv` et `ID3.csv` créer un dataframe dont les colonnes sont [\"latitude\", \"longitude\", \"time\", \"user_id\"]\n",
        "- user_id: identifiant (1, 2, 3) selon l'utilisateur"
      ]
    },
    {
      "cell_type": "markdown",
      "metadata": {
        "id": "yyVRdX_2v9wb"
      },
      "source": [
        "### Q2 [5 pts]\n",
        "\n",
        "- À l'aide de la librairie `Scikit-Mobility` et du dataframe obtenu ci-haut, créer un `TrajDataFrame`\n",
        "- Afficher les trajectoires TrajDataFrame ainsi crées\n",
        "- Documentation: [Scikit-Mobility](https://github.com/scikit-mobility/scikit-mobility#examples)."
      ]
    },
    {
      "cell_type": "markdown",
      "metadata": {
        "id": "41N2mlH5v9wb"
      },
      "source": [
        "### Q3 [10pts]"
      ]
    },
    {
      "cell_type": "markdown",
      "metadata": {
        "id": "uLoyh9drv9wb"
      },
      "source": [
        "À partir d’une simple visualisation (on peut bien entendu zoomer), que pouvez vous inférer de ces traces de mobilité ?"
      ]
    },
    {
      "cell_type": "markdown",
      "metadata": {
        "hideCode": false,
        "hideOutput": true,
        "hidePrompt": false,
        "tags": [],
        "id": "R8l0PtKBv9wb"
      },
      "source": [
        "# Partie 2 :Attaques par inférence sur données de mobilité\n",
        "\n",
        "Vous devez pour cette partie, implémenter les deux attaques par inférence qui sont décrites ci-après."
      ]
    },
    {
      "cell_type": "markdown",
      "metadata": {
        "hideCode": false,
        "hideOutput": true,
        "hidePrompt": false,
        "tags": [],
        "id": "mFvrGnVvv9wc"
      },
      "source": [
        "### Q4 [30 pts]\n",
        "- Implémenter une attaque de type « BeginEnd » qui essaye d'identifier les points d'intérêts d'un individu en découvrant des \"trous\" dans ses traces de mobilité et en considérant le point d'arrivée et de départ avant ce trou comme des points d'intérêts possibles. Une heuristique simple pour trouver ces \"trous\" est de mesurer la vitesse atteinte à chaque point et de ne garder que les points où la vitesse de l'utilisateur est en dessous d'un seuil (3km/h par exemple).\n",
        "- Visualiser le résultat"
      ]
    },
    {
      "cell_type": "markdown",
      "metadata": {
        "id": "ql9C-NDHv9wc"
      },
      "source": [
        "#### Aide\n",
        "\n",
        "- Code: Nous vous fournissons pour ces questions les fonctions pour effectuer:\n",
        "    - le calcul de la distance entre deux points GPS: `spacial_dist`\n",
        "    - la différence entre deux informations temporelles (objet datetime): `time_diff`\n",
        "    - la vitesse d'un objet entre deux points: `calcul_vitesse_point`\n",
        "    - l'affichage des points d'arrêts: `plot_points`\n",
        "    - Ces fonctions peuvent-être utilisées telles quelles, en partie ou pas du tout."
      ]
    },
    {
      "cell_type": "markdown",
      "metadata": {
        "id": "FaQSQjDiv9wc"
      },
      "source": [
        "### Format des résultats"
      ]
    },
    {
      "cell_type": "code",
      "execution_count": 11,
      "metadata": {
        "id": "0PHf2gYzv9wc",
        "outputId": "620b2e18-7de6-48cb-af28-556ab74edd43",
        "colab": {
          "base_uri": "https://localhost:8080/",
          "height": 176
        }
      },
      "outputs": [
        {
          "output_type": "error",
          "ename": "NameError",
          "evalue": "name 'df' is not defined",
          "traceback": [
            "\u001b[0;31m---------------------------------------------------------------------------\u001b[0m",
            "\u001b[0;31mNameError\u001b[0m                                 Traceback (most recent call last)",
            "\u001b[0;32m<ipython-input-11-8a591ffe7882>\u001b[0m in \u001b[0;36m<cell line: 0>\u001b[0;34m()\u001b[0m\n\u001b[1;32m      1\u001b[0m \u001b[0;31m# exemple montrant comment sélectionner les points d'un seul individus.\u001b[0m\u001b[0;34m\u001b[0m\u001b[0;34m\u001b[0m\u001b[0m\n\u001b[1;32m      2\u001b[0m \u001b[0;31m# Remplacez 1 par 2 ou 3 pour les autres individus.\u001b[0m\u001b[0;34m\u001b[0m\u001b[0;34m\u001b[0m\u001b[0m\n\u001b[0;32m----> 3\u001b[0;31m \u001b[0mpoints_id1\u001b[0m \u001b[0;34m=\u001b[0m \u001b[0mdf\u001b[0m\u001b[0;34m.\u001b[0m\u001b[0mloc\u001b[0m\u001b[0;34m[\u001b[0m\u001b[0mdf\u001b[0m\u001b[0;34m.\u001b[0m\u001b[0muser_id\u001b[0m \u001b[0;34m==\u001b[0m \u001b[0;36m1\u001b[0m\u001b[0;34m]\u001b[0m\u001b[0;34m\u001b[0m\u001b[0;34m\u001b[0m\u001b[0m\n\u001b[0m",
            "\u001b[0;31mNameError\u001b[0m: name 'df' is not defined"
          ]
        }
      ],
      "source": [
        "# exemple montrant comment sélectionner les points d'un seul individus.\n",
        "# Remplacez 1 par 2 ou 3 pour les autres individus.\n",
        "points_id1 = df.loc[df.user_id == 1]"
      ]
    },
    {
      "cell_type": "code",
      "execution_count": 10,
      "metadata": {
        "id": "QtMYP9E_v9wc"
      },
      "outputs": [],
      "source": [
        "# Calculez les points d'arrêts ici, vous devez évidemment changer les valeurs des tableaux\n",
        "# ci-dessous qui ne servent qu'à illustrer le type de résultats à fournir.\n",
        "\n",
        "stop_point_id1 = np.array([0,1,2,3,4,5]).reshape((3,2)) # resultat ici de la forme d'un tableau de points :\n",
        "                                                        # [[x,y], [x', y'], ..., [x'', y'']]\n",
        "                                                        # avec x latitude et y longitude. À modifer\n",
        "\n",
        "stop_point_id2 = np.array([0,1,2,3,4,5]).reshape((3,2)) # idem. À modifier\n",
        "stop_point_id3 = np.array([0,1,2,3,4,5]).reshape((3,2)) # idem. À modifier"
      ]
    },
    {
      "cell_type": "code",
      "execution_count": null,
      "metadata": {
        "id": "L-eNvsp5v9wc"
      },
      "outputs": [],
      "source": [
        "# votre tableau de points d'arrêts doit avoir au moins deux colonnes\n",
        "# correspondant à la latitude et la longitude des points d'arrêts.\n",
        "\n",
        "assert stop_point_id1.shape[1] >= 2, \"Vous n'avez pas assez de colonnes dans votre tableau de résultats\""
      ]
    },
    {
      "cell_type": "code",
      "execution_count": null,
      "metadata": {
        "id": "hoj6FYhcv9wd"
      },
      "outputs": [],
      "source": [
        "### Exemple d'affichage de points d'arrêts de l'utilisateur 1 (ce ne sont pas ses vraies coordonnées)\n",
        "\n",
        "# plot(stop_point_id1)\n",
        "plot_points(stop_point_id1[:,0], stop_point_id1[:,1]) # ici [:,0] signifie que l'on sélectionne\n",
        "                                                      # toutes les données de la première colonne\n",
        "                                                      # de stop_points_id1 (idem pour [:,1] avec\n",
        "                                                      # la seconde colonne)."
      ]
    },
    {
      "cell_type": "markdown",
      "metadata": {
        "hideCode": false,
        "hideOutput": true,
        "hidePrompt": false,
        "tags": [],
        "id": "uXQL6QZKv9wd"
      },
      "source": [
        "### Q5 [30 pts]\n",
        "- Implémenter une attaque qui utilise un algorithme de clustering du type k-moyennes (kmean) pour essayer de trouver des groupes de localisation dont la localisation moyenne ou médianes pourrait correspondre à un point d'intérêt (par exemple la maison). Cet algorithme pourra prendre en entrée soit la trace totale, soit le résultat de  l'attaque précédente et retournera en sortie une représentation des différents groupes (clusters) découverts.\n",
        "- Visualiser le résultat"
      ]
    },
    {
      "cell_type": "markdown",
      "metadata": {
        "id": "mPDrknvWv9wd"
      },
      "source": [
        "#### Aide\n",
        "\n",
        "- Pour cette question nous vous proposons d'utiliser l'algorithme [DBSCAN](https://scikit-learn.org/stable/modules/generated/sklearn.cluster.DBSCAN.html) pour clusteriser les points. D'[autres algorithmes](https://scikit-learn.org/stable/modules/classes.html#module-sklearn.cluster) de clustering existent (p. e. [KMeans](https://scikit-learn.org/stable/modules/generated/sklearn.cluster.KMeans.html)). Vous êtes invités à les expérimenter, afin de voir les différences de résultats, mais ce n'est pas obligatoire. Pour plus d'informations sur la clusterisation de points GPS vous pouvez consulter [ce tutoriel](https://chih-ling-hsu.github.io/2018/01/02/clustering-python).\n"
      ]
    },
    {
      "cell_type": "code",
      "execution_count": null,
      "metadata": {
        "id": "wly0bkimv9wd"
      },
      "outputs": [],
      "source": [
        "from sklearn.cluster import DBSCAN"
      ]
    },
    {
      "cell_type": "markdown",
      "metadata": {
        "id": "PihtUFmUv9wd"
      },
      "source": [
        "- Pour mesurer les distances entre des points GPS il faut d'abord les convertir en radians. Pour ça vous pouvez utiliser la [fonction](https://numpy.org/doc/stable/reference/generated/numpy.radians.html) `radians()` de `numpy`."
      ]
    },
    {
      "cell_type": "code",
      "execution_count": null,
      "metadata": {
        "id": "rsphYC8tv9wd"
      },
      "outputs": [],
      "source": [
        "X = stop_point_id1 # convertir en radians, à modifier"
      ]
    },
    {
      "cell_type": "markdown",
      "metadata": {
        "id": "Uoi8NsSVv9wd"
      },
      "source": [
        "- DBSCAN dispose de plusieurs paramètres :\n",
        "\n",
        "    - le paramètre epsilon, il définit la distance maximale pour que deux points soient considérés comme appartenant au même cluster.\n",
        "\n",
        "    - le paramètre min-sample, il définit le nombre de point minimum qui doivent se trouver dans un rayon epsilon d'un point pour que celui-ci soit considéré comme un point noyau.\n",
        "\n",
        "    - l'algorithme d'indexation utilisé par DBSCAN pour clusteriser les points (ici ball_tree). C'est un paramètre d'optimisation pour le calcul des clusters.\n",
        "\n",
        "    - la métrique à utiliser comme distance entre les points. Ici nous utilisons haversine qui est une distance pour les points GPS (la terre étant ronde, l'utilisation de la distance euclidienne est à bannir).\n",
        "    \n",
        "    - Comme les points sont exprimés en radians, la distance epsilon doit être exprimée en radians aussi. Il faut alors la diviser par le rayon de la terre, soit environ 6366,707km (évidemment epsilon doit être exprimé dans la même unité que celle du rayon de la terre)."
      ]
    },
    {
      "cell_type": "code",
      "execution_count": null,
      "metadata": {
        "id": "UhvGY6sfv9wd"
      },
      "outputs": [],
      "source": [
        "eps = 1         # à modifier\n",
        "min_samples = 0  # à modifier\n",
        "db = DBSCAN(eps=eps, min_samples=min_samples, algorithm='ball_tree', metric='haversine').fit(X)"
      ]
    },
    {
      "cell_type": "code",
      "execution_count": null,
      "metadata": {
        "id": "Rz1JBZHAv9wd"
      },
      "outputs": [],
      "source": [
        "print(\"Nombre de clusters créer : \", len(set(db.labels_)) - 1)"
      ]
    },
    {
      "cell_type": "markdown",
      "metadata": {
        "id": "wQJVtCKPv9we"
      },
      "source": [
        "- Nous vous fournissons aussi deux fonctions qui:\n",
        "\n",
        "    - étant donnée un cluster de points retourne le centroids de ce cluster: `compute_centroid`\n",
        "    - et la fonction pour l'affichage des points d'arrêts: `plot_points`\n"
      ]
    },
    {
      "cell_type": "markdown",
      "metadata": {
        "id": "s22_QPHCv9we"
      },
      "source": [
        "#### Format des résultats"
      ]
    },
    {
      "cell_type": "code",
      "execution_count": null,
      "metadata": {
        "id": "LLMmgs-Zv9we"
      },
      "outputs": [],
      "source": [
        "# Attention ici nous calculons le centroid **D'UN SEUL** cluster de points.\n",
        "# Il y a plusieurs clusters de points par individu et plusieurs individus (id1, id2 et id3).\n",
        "\n",
        "lat_cluster_1 = np.array([0,2,4]) # à modifier\n",
        "lng_cluster_1 = np.array([1,3,5]) # à modifier\n",
        "centroid = compute_centroid(lat_cluster_1, lng_cluster_1) # calcul du centroid d'un cluster de points inventés"
      ]
    },
    {
      "cell_type": "markdown",
      "metadata": {
        "id": "Y2G04fAbv9we"
      },
      "source": [
        "#### Affichage"
      ]
    },
    {
      "cell_type": "markdown",
      "metadata": {
        "id": "DZflmPYev9we"
      },
      "source": [
        "Pour chaque fichier (id) afficher les centroids des clusters des points d'arrêts"
      ]
    },
    {
      "cell_type": "code",
      "execution_count": null,
      "metadata": {
        "id": "PJvhvMsnv9we"
      },
      "outputs": [],
      "source": [
        "# plot(stop_point_id1)\n",
        "# plot(stop_point_id2)\n",
        "# plot(stop_point_id3)"
      ]
    },
    {
      "cell_type": "markdown",
      "metadata": {
        "id": "AcDlrwSPv9we"
      },
      "source": [
        "### Q6 [10 pts]\n",
        "- Que pouvez vous déduire sur l'utilisateur 1, l'utilisateur 2 et l'utilisateur 3 à partir des résultats de la question 4 ?"
      ]
    },
    {
      "cell_type": "markdown",
      "metadata": {
        "id": "gtorBzOBv9wf"
      },
      "source": [
        "### Q7 [10 pts]\n",
        "- Que pouvez vous déduire sur l'utilisateur 1, l'utilisateur 2 et l'utilisateur 3 à partir des résultats de la question 5 ?"
      ]
    }
  ],
  "metadata": {
    "hide_code_all_hidden": false,
    "kernelspec": {
      "display_name": "Python 3.10.6 64-bit",
      "language": "python",
      "name": "python3"
    },
    "language_info": {
      "codemirror_mode": {
        "name": "ipython",
        "version": 3
      },
      "file_extension": ".py",
      "mimetype": "text/x-python",
      "name": "python",
      "nbconvert_exporter": "python",
      "pygments_lexer": "ipython3",
      "version": "3.9.13"
    },
    "vscode": {
      "interpreter": {
        "hash": "b0fa6594d8f4cbf19f97940f81e996739fb7646882a419484c72d19e05852a7e"
      }
    },
    "colab": {
      "provenance": [],
      "include_colab_link": true
    }
  },
  "nbformat": 4,
  "nbformat_minor": 0
}