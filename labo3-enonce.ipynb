{
  "cells": [
    {
      "cell_type": "markdown",
      "metadata": {
        "hideCode": false,
        "hidePrompt": false,
        "id": "YPNp6HIAv9wW"
      },
      "source": [
        "# GTI720 - Protection des renseignements personnels\n",
        "\n",
        "## Laboratoire 3 : Geoprivacy"
      ]
    },
    {
      "cell_type": "markdown",
      "metadata": {
        "id": "9QyXXitqv9wX"
      },
      "source": [
        "# Description\n",
        "Le but de ce laboratoire est de vous familiariser avec l'analyse et les attaques par inférence sur des données géolocalisées. Plus précisément, vous allez travailler sur trois fichiers représentant les traces de mobilité de différents individus collectées pendant plusieurs mois. Pour deux d’entre eux, il s’agit de taxis de San Francisco, pour l’autre d’un individu Français. Il vous faudra analyser ces traces de mobilité en essayant d'y extraire des informations telles que les \"hotspots\" (points de la carte très fréquentées) et si c'est possible les points d'intérêts concernant les individus dont vous avez reçu les traces. Pour cela, vous utiliserez **Python dans ce notebook**, la visualisation de données géographiques, mais vous avez évidemment le droit d'utiliser d'autres sources publiques d'information (telles que PagesJaunes, YahooMaps ou Google Streetview par exemple)."
      ]
    },
    {
      "cell_type": "markdown",
      "metadata": {
        "id": "PVgcAz2av9wY"
      },
      "source": [
        "# Partie 0: Setup\n",
        "\n",
        "- Créer un environnement python nommé `geoprivacy`\n",
        "- Installer la librairie `scikit-mobility`"
      ]
    },
    {
      "cell_type": "markdown",
      "source": [
        "# installons la librairie scikit-mobility"
      ],
      "metadata": {
        "id": "5GSzmPy_v_wL"
      }
    },
    {
      "cell_type": "code",
      "source": [
        "!pip install scikit-mobility"
      ],
      "metadata": {
        "id": "T1A5VqsTwJ6a",
        "outputId": "ceeb9296-b023-459b-af7b-5c5b8bd0d7f8",
        "colab": {
          "base_uri": "https://localhost:8080/"
        }
      },
      "execution_count": 1,
      "outputs": [
        {
          "output_type": "stream",
          "name": "stdout",
          "text": [
            "Collecting scikit-mobility\n",
            "  Downloading scikit_mobility-1.3.1-py3-none-any.whl.metadata (38 kB)\n",
            "Collecting folium==0.12.1.post1 (from scikit-mobility)\n",
            "  Downloading folium-0.12.1.post1-py2.py3-none-any.whl.metadata (3.1 kB)\n",
            "Collecting geojson<3.0.0,>=2.5.0 (from scikit-mobility)\n",
            "  Downloading geojson-2.5.0-py2.py3-none-any.whl.metadata (15 kB)\n",
            "Collecting geopandas<0.11.0,>=0.10.2 (from scikit-mobility)\n",
            "  Downloading geopandas-0.10.2-py2.py3-none-any.whl.metadata (935 bytes)\n",
            "Collecting h3<4.0.0,>=3.7.3 (from scikit-mobility)\n",
            "  Downloading h3-3.7.7-cp311-cp311-manylinux_2_17_x86_64.manylinux2014_x86_64.whl.metadata (4.9 kB)\n",
            "Collecting pandas<2.0.0,>=1.1.5 (from scikit-mobility)\n",
            "  Downloading pandas-1.5.3-cp311-cp311-manylinux_2_17_x86_64.manylinux2014_x86_64.whl.metadata (11 kB)\n",
            "Requirement already satisfied: pooch<2.0.0,>=1.6.0 in /usr/local/lib/python3.11/dist-packages (from scikit-mobility) (1.8.2)\n",
            "Collecting powerlaw<2.0.0,>=1.4.6 (from scikit-mobility)\n",
            "  Downloading powerlaw-1.5-py3-none-any.whl.metadata (9.3 kB)\n",
            "Collecting python-igraph<0.10.0,>=0.9.1 (from scikit-mobility)\n",
            "  Downloading python_igraph-0.9.11-py3-none-any.whl.metadata (2.9 kB)\n",
            "Requirement already satisfied: requests<3.0.0,>=2.25.1 in /usr/local/lib/python3.11/dist-packages (from scikit-mobility) (2.32.3)\n",
            "Requirement already satisfied: scikit-learn in /usr/local/lib/python3.11/dist-packages (from scikit-mobility) (1.6.1)\n",
            "Collecting statsmodels<0.14.0,>=0.13.0 (from scikit-mobility)\n",
            "  Downloading statsmodels-0.13.5-cp311-cp311-manylinux_2_17_x86_64.manylinux2014_x86_64.whl.metadata (9.5 kB)\n",
            "Requirement already satisfied: tqdm<5.0.0,>=4.60.0 in /usr/local/lib/python3.11/dist-packages (from scikit-mobility) (4.67.1)\n",
            "Requirement already satisfied: branca>=0.3.0 in /usr/local/lib/python3.11/dist-packages (from folium==0.12.1.post1->scikit-mobility) (0.8.1)\n",
            "Requirement already satisfied: jinja2>=2.9 in /usr/local/lib/python3.11/dist-packages (from folium==0.12.1.post1->scikit-mobility) (3.1.5)\n",
            "Requirement already satisfied: numpy in /usr/local/lib/python3.11/dist-packages (from folium==0.12.1.post1->scikit-mobility) (1.26.4)\n",
            "Requirement already satisfied: shapely>=1.6 in /usr/local/lib/python3.11/dist-packages (from geopandas<0.11.0,>=0.10.2->scikit-mobility) (2.0.7)\n",
            "Collecting fiona>=1.8 (from geopandas<0.11.0,>=0.10.2->scikit-mobility)\n",
            "  Downloading fiona-1.10.1-cp311-cp311-manylinux_2_17_x86_64.manylinux2014_x86_64.whl.metadata (56 kB)\n",
            "\u001b[2K     \u001b[90m━━━━━━━━━━━━━━━━━━━━━━━━━━━━━━━━━━━━━━━━\u001b[0m \u001b[32m56.6/56.6 kB\u001b[0m \u001b[31m2.0 MB/s\u001b[0m eta \u001b[36m0:00:00\u001b[0m\n",
            "\u001b[?25hRequirement already satisfied: pyproj>=2.2.0 in /usr/local/lib/python3.11/dist-packages (from geopandas<0.11.0,>=0.10.2->scikit-mobility) (3.7.1)\n",
            "Requirement already satisfied: python-dateutil>=2.8.1 in /usr/local/lib/python3.11/dist-packages (from pandas<2.0.0,>=1.1.5->scikit-mobility) (2.8.2)\n",
            "Requirement already satisfied: pytz>=2020.1 in /usr/local/lib/python3.11/dist-packages (from pandas<2.0.0,>=1.1.5->scikit-mobility) (2025.1)\n",
            "Requirement already satisfied: platformdirs>=2.5.0 in /usr/local/lib/python3.11/dist-packages (from pooch<2.0.0,>=1.6.0->scikit-mobility) (4.3.6)\n",
            "Requirement already satisfied: packaging>=20.0 in /usr/local/lib/python3.11/dist-packages (from pooch<2.0.0,>=1.6.0->scikit-mobility) (24.2)\n",
            "Requirement already satisfied: scipy in /usr/local/lib/python3.11/dist-packages (from powerlaw<2.0.0,>=1.4.6->scikit-mobility) (1.13.1)\n",
            "Requirement already satisfied: matplotlib in /usr/local/lib/python3.11/dist-packages (from powerlaw<2.0.0,>=1.4.6->scikit-mobility) (3.10.0)\n",
            "Requirement already satisfied: mpmath in /usr/local/lib/python3.11/dist-packages (from powerlaw<2.0.0,>=1.4.6->scikit-mobility) (1.3.0)\n",
            "Collecting igraph==0.9.11 (from python-igraph<0.10.0,>=0.9.1->scikit-mobility)\n",
            "  Downloading igraph-0.9.11.tar.gz (3.7 MB)\n",
            "\u001b[2K     \u001b[90m━━━━━━━━━━━━━━━━━━━━━━━━━━━━━━━━━━━━━━━━\u001b[0m \u001b[32m3.7/3.7 MB\u001b[0m \u001b[31m28.6 MB/s\u001b[0m eta \u001b[36m0:00:00\u001b[0m\n",
            "\u001b[?25h  Preparing metadata (setup.py) ... \u001b[?25l\u001b[?25hdone\n",
            "Collecting texttable>=1.6.2 (from igraph==0.9.11->python-igraph<0.10.0,>=0.9.1->scikit-mobility)\n",
            "  Downloading texttable-1.7.0-py2.py3-none-any.whl.metadata (9.8 kB)\n",
            "Requirement already satisfied: charset-normalizer<4,>=2 in /usr/local/lib/python3.11/dist-packages (from requests<3.0.0,>=2.25.1->scikit-mobility) (3.4.1)\n",
            "Requirement already satisfied: idna<4,>=2.5 in /usr/local/lib/python3.11/dist-packages (from requests<3.0.0,>=2.25.1->scikit-mobility) (3.10)\n",
            "Requirement already satisfied: urllib3<3,>=1.21.1 in /usr/local/lib/python3.11/dist-packages (from requests<3.0.0,>=2.25.1->scikit-mobility) (2.3.0)\n",
            "Requirement already satisfied: certifi>=2017.4.17 in /usr/local/lib/python3.11/dist-packages (from requests<3.0.0,>=2.25.1->scikit-mobility) (2025.1.31)\n",
            "Requirement already satisfied: patsy>=0.5.2 in /usr/local/lib/python3.11/dist-packages (from statsmodels<0.14.0,>=0.13.0->scikit-mobility) (1.0.1)\n",
            "Requirement already satisfied: joblib>=1.2.0 in /usr/local/lib/python3.11/dist-packages (from scikit-learn->scikit-mobility) (1.4.2)\n",
            "Requirement already satisfied: threadpoolctl>=3.1.0 in /usr/local/lib/python3.11/dist-packages (from scikit-learn->scikit-mobility) (3.5.0)\n",
            "Requirement already satisfied: attrs>=19.2.0 in /usr/local/lib/python3.11/dist-packages (from fiona>=1.8->geopandas<0.11.0,>=0.10.2->scikit-mobility) (25.1.0)\n",
            "Requirement already satisfied: click~=8.0 in /usr/local/lib/python3.11/dist-packages (from fiona>=1.8->geopandas<0.11.0,>=0.10.2->scikit-mobility) (8.1.8)\n",
            "Collecting click-plugins>=1.0 (from fiona>=1.8->geopandas<0.11.0,>=0.10.2->scikit-mobility)\n",
            "  Downloading click_plugins-1.1.1-py2.py3-none-any.whl.metadata (6.4 kB)\n",
            "Collecting cligj>=0.5 (from fiona>=1.8->geopandas<0.11.0,>=0.10.2->scikit-mobility)\n",
            "  Downloading cligj-0.7.2-py3-none-any.whl.metadata (5.0 kB)\n",
            "Requirement already satisfied: MarkupSafe>=2.0 in /usr/local/lib/python3.11/dist-packages (from jinja2>=2.9->folium==0.12.1.post1->scikit-mobility) (3.0.2)\n",
            "Requirement already satisfied: six>=1.5 in /usr/local/lib/python3.11/dist-packages (from python-dateutil>=2.8.1->pandas<2.0.0,>=1.1.5->scikit-mobility) (1.17.0)\n",
            "Requirement already satisfied: contourpy>=1.0.1 in /usr/local/lib/python3.11/dist-packages (from matplotlib->powerlaw<2.0.0,>=1.4.6->scikit-mobility) (1.3.1)\n",
            "Requirement already satisfied: cycler>=0.10 in /usr/local/lib/python3.11/dist-packages (from matplotlib->powerlaw<2.0.0,>=1.4.6->scikit-mobility) (0.12.1)\n",
            "Requirement already satisfied: fonttools>=4.22.0 in /usr/local/lib/python3.11/dist-packages (from matplotlib->powerlaw<2.0.0,>=1.4.6->scikit-mobility) (4.56.0)\n",
            "Requirement already satisfied: kiwisolver>=1.3.1 in /usr/local/lib/python3.11/dist-packages (from matplotlib->powerlaw<2.0.0,>=1.4.6->scikit-mobility) (1.4.8)\n",
            "Requirement already satisfied: pillow>=8 in /usr/local/lib/python3.11/dist-packages (from matplotlib->powerlaw<2.0.0,>=1.4.6->scikit-mobility) (11.1.0)\n",
            "Requirement already satisfied: pyparsing>=2.3.1 in /usr/local/lib/python3.11/dist-packages (from matplotlib->powerlaw<2.0.0,>=1.4.6->scikit-mobility) (3.2.1)\n",
            "Downloading scikit_mobility-1.3.1-py3-none-any.whl (167 kB)\n",
            "\u001b[2K   \u001b[90m━━━━━━━━━━━━━━━━━━━━━━━━━━━━━━━━━━━━━━━━\u001b[0m \u001b[32m167.7/167.7 kB\u001b[0m \u001b[31m7.9 MB/s\u001b[0m eta \u001b[36m0:00:00\u001b[0m\n",
            "\u001b[?25hDownloading folium-0.12.1.post1-py2.py3-none-any.whl (95 kB)\n",
            "\u001b[2K   \u001b[90m━━━━━━━━━━━━━━━━━━━━━━━━━━━━━━━━━━━━━━━━\u001b[0m \u001b[32m95.0/95.0 kB\u001b[0m \u001b[31m6.7 MB/s\u001b[0m eta \u001b[36m0:00:00\u001b[0m\n",
            "\u001b[?25hDownloading geojson-2.5.0-py2.py3-none-any.whl (14 kB)\n",
            "Downloading geopandas-0.10.2-py2.py3-none-any.whl (1.0 MB)\n",
            "\u001b[2K   \u001b[90m━━━━━━━━━━━━━━━━━━━━━━━━━━━━━━━━━━━━━━━━\u001b[0m \u001b[32m1.0/1.0 MB\u001b[0m \u001b[31m48.5 MB/s\u001b[0m eta \u001b[36m0:00:00\u001b[0m\n",
            "\u001b[?25hDownloading h3-3.7.7-cp311-cp311-manylinux_2_17_x86_64.manylinux2014_x86_64.whl (1.2 MB)\n",
            "\u001b[2K   \u001b[90m━━━━━━━━━━━━━━━━━━━━━━━━━━━━━━━━━━━━━━━━\u001b[0m \u001b[32m1.2/1.2 MB\u001b[0m \u001b[31m46.5 MB/s\u001b[0m eta \u001b[36m0:00:00\u001b[0m\n",
            "\u001b[?25hDownloading pandas-1.5.3-cp311-cp311-manylinux_2_17_x86_64.manylinux2014_x86_64.whl (12.0 MB)\n",
            "\u001b[2K   \u001b[90m━━━━━━━━━━━━━━━━━━━━━━━━━━━━━━━━━━━━━━━━\u001b[0m \u001b[32m12.0/12.0 MB\u001b[0m \u001b[31m76.2 MB/s\u001b[0m eta \u001b[36m0:00:00\u001b[0m\n",
            "\u001b[?25hDownloading powerlaw-1.5-py3-none-any.whl (24 kB)\n",
            "Downloading python_igraph-0.9.11-py3-none-any.whl (9.1 kB)\n",
            "Downloading statsmodels-0.13.5-cp311-cp311-manylinux_2_17_x86_64.manylinux2014_x86_64.whl (9.9 MB)\n",
            "\u001b[2K   \u001b[90m━━━━━━━━━━━━━━━━━━━━━━━━━━━━━━━━━━━━━━━━\u001b[0m \u001b[32m9.9/9.9 MB\u001b[0m \u001b[31m50.8 MB/s\u001b[0m eta \u001b[36m0:00:00\u001b[0m\n",
            "\u001b[?25hDownloading fiona-1.10.1-cp311-cp311-manylinux_2_17_x86_64.manylinux2014_x86_64.whl (17.3 MB)\n",
            "\u001b[2K   \u001b[90m━━━━━━━━━━━━━━━━━━━━━━━━━━━━━━━━━━━━━━━━\u001b[0m \u001b[32m17.3/17.3 MB\u001b[0m \u001b[31m60.0 MB/s\u001b[0m eta \u001b[36m0:00:00\u001b[0m\n",
            "\u001b[?25hDownloading click_plugins-1.1.1-py2.py3-none-any.whl (7.5 kB)\n",
            "Downloading cligj-0.7.2-py3-none-any.whl (7.1 kB)\n",
            "Downloading texttable-1.7.0-py2.py3-none-any.whl (10 kB)\n",
            "Building wheels for collected packages: igraph\n",
            "  Building wheel for igraph (setup.py) ... \u001b[?25l\u001b[?25hdone\n",
            "  Created wheel for igraph: filename=igraph-0.9.11-cp311-cp311-linux_x86_64.whl size=2321690 sha256=b5d0ec2f4a8b0d61fd5df9ec37025d7655e67f8f4116bb0b07d6f1ef12e4ea5d\n",
            "  Stored in directory: /root/.cache/pip/wheels/81/13/4d/2c2952a251efb8b05eef22146ad3f89244bc19f272a6ca1ae3\n",
            "Successfully built igraph\n",
            "Installing collected packages: texttable, h3, geojson, igraph, cligj, click-plugins, python-igraph, pandas, fiona, statsmodels, powerlaw, geopandas, folium, scikit-mobility\n",
            "  Attempting uninstall: pandas\n",
            "    Found existing installation: pandas 2.2.2\n",
            "    Uninstalling pandas-2.2.2:\n",
            "      Successfully uninstalled pandas-2.2.2\n",
            "  Attempting uninstall: statsmodels\n",
            "    Found existing installation: statsmodels 0.14.4\n",
            "    Uninstalling statsmodels-0.14.4:\n",
            "      Successfully uninstalled statsmodels-0.14.4\n",
            "  Attempting uninstall: geopandas\n",
            "    Found existing installation: geopandas 1.0.1\n",
            "    Uninstalling geopandas-1.0.1:\n",
            "      Successfully uninstalled geopandas-1.0.1\n",
            "  Attempting uninstall: folium\n",
            "    Found existing installation: folium 0.19.4\n",
            "    Uninstalling folium-0.19.4:\n",
            "      Successfully uninstalled folium-0.19.4\n",
            "\u001b[31mERROR: pip's dependency resolver does not currently take into account all the packages that are installed. This behaviour is the source of the following dependency conflicts.\n",
            "google-colab 1.0.0 requires pandas==2.2.2, but you have pandas 1.5.3 which is incompatible.\n",
            "mizani 0.13.1 requires pandas>=2.2.0, but you have pandas 1.5.3 which is incompatible.\n",
            "dask-expr 1.1.19 requires pandas>=2, but you have pandas 1.5.3 which is incompatible.\n",
            "dask-cudf-cu12 24.12.0 requires pandas<2.2.4dev0,>=2.0, but you have pandas 1.5.3 which is incompatible.\n",
            "plotnine 0.14.5 requires pandas>=2.2.0, but you have pandas 1.5.3 which is incompatible.\n",
            "plotnine 0.14.5 requires statsmodels>=0.14.0, but you have statsmodels 0.13.5 which is incompatible.\n",
            "geemap 0.35.2 requires folium>=0.17.0, but you have folium 0.12.1.post1 which is incompatible.\n",
            "cudf-cu12 24.12.0 requires pandas<2.2.4dev0,>=2.0, but you have pandas 1.5.3 which is incompatible.\n",
            "xarray 2025.1.2 requires pandas>=2.1, but you have pandas 1.5.3 which is incompatible.\n",
            "bigframes 1.38.0 requires geopandas>=0.12.2, but you have geopandas 0.10.2 which is incompatible.\u001b[0m\u001b[31m\n",
            "\u001b[0mSuccessfully installed click-plugins-1.1.1 cligj-0.7.2 fiona-1.10.1 folium-0.12.1.post1 geojson-2.5.0 geopandas-0.10.2 h3-3.7.7 igraph-0.9.11 pandas-1.5.3 powerlaw-1.5 python-igraph-0.9.11 scikit-mobility-1.3.1 statsmodels-0.13.5 texttable-1.7.0\n"
          ]
        }
      ]
    },
    {
      "cell_type": "code",
      "execution_count": 2,
      "metadata": {
        "id": "fSEUaqtGv9wZ"
      },
      "outputs": [],
      "source": [
        "import numpy as np\n",
        "import pandas as pd\n",
        "import datetime\n",
        "import matplotlib.pyplot as plt\n",
        "import skmob\n",
        "import folium"
      ]
    },
    {
      "cell_type": "code",
      "execution_count": null,
      "metadata": {
        "id": "bJrRf5HPv9wZ"
      },
      "outputs": [],
      "source": [
        "def spacial_dist(lat_1, lng_1, lat_2, lng_2):\n",
        "    \"\"\"\n",
        "    Calcule la distance entre deux points. Les points doivent être exprimés\n",
        "    en coordoonées GPS (float). La distance est exprimée en mètre.\n",
        "    \"\"\"\n",
        "    if (lat_1 == lat_2 and lng_1 == lng_2):\n",
        "        return 0.0\n",
        "\n",
        "    er = 6366707\n",
        "    latFrom = np.radians(lat_1)\n",
        "    latTo = np.radians(lat_2)\n",
        "    lngFrom = np.radians(lng_1)\n",
        "    lngTo = np.radians(lng_2)\n",
        "\n",
        "    return np.arccos(\n",
        "        np.sin(latFrom) * np.sin(latTo)+\\\n",
        "        np.cos(latFrom) * np.cos(latTo) * np.cos(lngTo - lngFrom)\n",
        "        )* er"
      ]
    },
    {
      "cell_type": "code",
      "execution_count": null,
      "metadata": {
        "id": "w8XayKktv9wa"
      },
      "outputs": [],
      "source": [
        "def time_diff(time_1, time_2):\n",
        "    \"\"\"\n",
        "    Calcul de la différence entre deux valeurs de datetime. La différence\n",
        "    est exprimée en seconde.\n",
        "    \"\"\"\n",
        "\n",
        "    return np.timedelta64(time_2 - time_1, 's').astype(\"int\") if time_2 > time_1 else np.timedelta64(time_1 - time_2, \"s\").astype(\"int\")"
      ]
    },
    {
      "cell_type": "code",
      "execution_count": null,
      "metadata": {
        "id": "NUeSh_bvv9wa"
      },
      "outputs": [],
      "source": [
        "def calcul_vitesse_point(lat_1, lng_1, time_1, lat_2, lng_2, time_2):\n",
        "    \"\"\"\n",
        "    Calcul la vitesse entre deux points.\n",
        "\n",
        "    lat_1, lng_1, time_1 : latitude, longitude et temps du premier point\n",
        "    lat_2, lng_2, time_2 : latitude, longitude et temps du second point\n",
        "\n",
        "    return: vit, la vitesse entre ces deux points en mètre/seconde.\n",
        "\n",
        "    \"\"\"\n",
        "    return spacial_dist(lat_1, lng_1, lat_2, lng_2) / time_diff(time_1, time_2) if time_diff(time_1, time_2) > 0 else 0\n"
      ]
    },
    {
      "cell_type": "code",
      "execution_count": null,
      "metadata": {
        "id": "a9s7hU1Sv9wa"
      },
      "outputs": [],
      "source": [
        "# vectorisation de la focntion calcul_vitesse_point\n",
        "f = np.vectorize(calcul_vitesse_point)"
      ]
    },
    {
      "cell_type": "code",
      "execution_count": null,
      "metadata": {
        "id": "YrpO8La8v9wa"
      },
      "outputs": [],
      "source": [
        "def plot_points(lat_array, lng_array, zoom=6):\n",
        "    \"\"\" Affiche les points représentés par lat_array et lng_array sur une carte Folium.\n",
        "    :lat_array: tableau des latitudes.\n",
        "    :lng_array: tableau des longitudes.\n",
        "\n",
        "    :return: une carte Folium des points.\n",
        "    \"\"\"\n",
        "\n",
        "    lat_array = np.array(lat_array)\n",
        "    lng_array = np.array(lng_array)\n",
        "\n",
        "    assert lat_array.shape[0] == lng_array.shape[0], \"Les tableaux de latitudes et longitudes ne sont pas de la meme taille !\"\n",
        "\n",
        "    size_a = lat_array.shape[0]\n",
        "    center = [np.sum(lat_array)/size_a, np.sum(lng_array)/size_a]\n",
        "    mymap = folium.Map(location=center, zoom_start=zoom, tiles='Stamen Toner')\n",
        "\n",
        "    for i in range(0, size_a):\n",
        "        folium.CircleMarker(location=[lat_array[i], lng_array[i]], radius=5, color='blue').add_to(mymap)\n",
        "\n",
        "    return mymap"
      ]
    },
    {
      "cell_type": "code",
      "execution_count": null,
      "metadata": {
        "id": "deSOwdoYv9wa"
      },
      "outputs": [],
      "source": [
        "def compute_centroid(arr_lat, arr_lng):\n",
        "    \"\"\"\n",
        "    arr_lat: tableau des latitudes\n",
        "    arr_lng: tableau des longitudes\n",
        "    \"\"\"\n",
        "\n",
        "    xx = np.cos(np.radians(arr_lat)) * np.cos(np.radians(arr_lng))\n",
        "    yy = np.cos(np.radians(arr_lat)) * np.sin(np.radians(arr_lng))\n",
        "    zz = np.sin(np.radians(arr_lat))\n",
        "\n",
        "    xxx = xx.sum() / xx.shape[0]\n",
        "    yyy = yy.sum() / xx.shape[0]\n",
        "    zzz = zz.sum() / xx.shape[0]\n",
        "\n",
        "    assert (xx.shape[0] == yy.shape[0] and xx.shape[0] == zz.shape[0])\n",
        "\n",
        "    central_longitude = np.arctan2(yyy, xxx)\n",
        "    central_square_root = np.sqrt(xxx * xxx + yyy * yyy)\n",
        "    central_latitude = np.arctan2(zzz, central_square_root)\n",
        "\n",
        "    return np.array([np.degrees(central_latitude), np.degrees(central_longitude)])"
      ]
    },
    {
      "cell_type": "markdown",
      "metadata": {
        "hideCode": false,
        "hidePrompt": false,
        "id": "q_T5QvLuv9wa"
      },
      "source": [
        "# Partie 1 : Visualisation des données"
      ]
    },
    {
      "cell_type": "markdown",
      "metadata": {
        "id": "duqI6H4Qv9wb"
      },
      "source": [
        "Vous devez pour cette partie, lire et afficher ces traces de mobilités."
      ]
    },
    {
      "cell_type": "markdown",
      "metadata": {
        "id": "_B2RK7QPv9wb"
      },
      "source": [
        "### Q1 [5pts]\n",
        "- À partir des fichiers `ID1.csv`,`ID2.csv` et `ID3.csv` créer un dataframe dont les colonnes sont [\"latitude\", \"longitude\", \"time\", \"user_id\"]\n",
        "- user_id: identifiant (1, 2, 3) selon l'utilisateur"
      ]
    },
    {
      "cell_type": "markdown",
      "metadata": {
        "id": "yyVRdX_2v9wb"
      },
      "source": [
        "### Q2 [5 pts]\n",
        "\n",
        "- À l'aide de la librairie `Scikit-Mobility` et du dataframe obtenu ci-haut, créer un `TrajDataFrame`\n",
        "- Afficher les trajectoires TrajDataFrame ainsi crées\n",
        "- Documentation: [Scikit-Mobility](https://github.com/scikit-mobility/scikit-mobility#examples)."
      ]
    },
    {
      "cell_type": "markdown",
      "metadata": {
        "id": "41N2mlH5v9wb"
      },
      "source": [
        "### Q3 [10pts]"
      ]
    },
    {
      "cell_type": "markdown",
      "metadata": {
        "id": "uLoyh9drv9wb"
      },
      "source": [
        "À partir d’une simple visualisation (on peut bien entendu zoomer), que pouvez vous inférer de ces traces de mobilité ?"
      ]
    },
    {
      "cell_type": "markdown",
      "metadata": {
        "hideCode": false,
        "hideOutput": true,
        "hidePrompt": false,
        "tags": [],
        "id": "R8l0PtKBv9wb"
      },
      "source": [
        "# Partie 2 :Attaques par inférence sur données de mobilité\n",
        "\n",
        "Vous devez pour cette partie, implémenter les deux attaques par inférence qui sont décrites ci-après."
      ]
    },
    {
      "cell_type": "markdown",
      "metadata": {
        "hideCode": false,
        "hideOutput": true,
        "hidePrompt": false,
        "tags": [],
        "id": "mFvrGnVvv9wc"
      },
      "source": [
        "### Q4 [30 pts]\n",
        "- Implémenter une attaque de type « BeginEnd » qui essaye d'identifier les points d'intérêts d'un individu en découvrant des \"trous\" dans ses traces de mobilité et en considérant le point d'arrivée et de départ avant ce trou comme des points d'intérêts possibles. Une heuristique simple pour trouver ces \"trous\" est de mesurer la vitesse atteinte à chaque point et de ne garder que les points où la vitesse de l'utilisateur est en dessous d'un seuil (3km/h par exemple).\n",
        "- Visualiser le résultat"
      ]
    },
    {
      "cell_type": "markdown",
      "metadata": {
        "id": "ql9C-NDHv9wc"
      },
      "source": [
        "#### Aide\n",
        "\n",
        "- Code: Nous vous fournissons pour ces questions les fonctions pour effectuer:\n",
        "    - le calcul de la distance entre deux points GPS: `spacial_dist`\n",
        "    - la différence entre deux informations temporelles (objet datetime): `time_diff`\n",
        "    - la vitesse d'un objet entre deux points: `calcul_vitesse_point`\n",
        "    - l'affichage des points d'arrêts: `plot_points`\n",
        "    - Ces fonctions peuvent-être utilisées telles quelles, en partie ou pas du tout."
      ]
    },
    {
      "cell_type": "markdown",
      "metadata": {
        "id": "FaQSQjDiv9wc"
      },
      "source": [
        "### Format des résultats"
      ]
    },
    {
      "cell_type": "code",
      "execution_count": null,
      "metadata": {
        "id": "0PHf2gYzv9wc"
      },
      "outputs": [],
      "source": [
        "# exemple montrant comment sélectionner les points d'un seul individus.\n",
        "# Remplacez 1 par 2 ou 3 pour les autres individus.\n",
        "points_id1 = df.loc[df.user_id == 1]"
      ]
    },
    {
      "cell_type": "code",
      "execution_count": null,
      "metadata": {
        "id": "QtMYP9E_v9wc"
      },
      "outputs": [],
      "source": [
        "# Calculez les points d'arrêts ici, vous devez évidemment changer les valeurs des tableaux\n",
        "# ci-dessous qui ne servent qu'à illustrer le type de résultats à fournir.\n",
        "\n",
        "stop_point_id1 = np.array([0,1,2,3,4,5]).reshape((3,2)) # resultat ici de la forme d'un tableau de points :\n",
        "                                                        # [[x,y], [x', y'], ..., [x'', y'']]\n",
        "                                                        # avec x latitude et y longitude. À modifer\n",
        "\n",
        "stop_point_id2 = np.array([0,1,2,3,4,5]).reshape((3,2)) # idem. À modifier\n",
        "stop_point_id3 = np.array([0,1,2,3,4,5]).reshape((3,2)) # idem. À modifier"
      ]
    },
    {
      "cell_type": "code",
      "execution_count": null,
      "metadata": {
        "id": "L-eNvsp5v9wc"
      },
      "outputs": [],
      "source": [
        "# votre tableau de points d'arrêts doit avoir au moins deux colonnes\n",
        "# correspondant à la latitude et la longitude des points d'arrêts.\n",
        "\n",
        "assert stop_point_id1.shape[1] >= 2, \"Vous n'avez pas assez de colonnes dans votre tableau de résultats\""
      ]
    },
    {
      "cell_type": "code",
      "execution_count": null,
      "metadata": {
        "id": "hoj6FYhcv9wd"
      },
      "outputs": [],
      "source": [
        "### Exemple d'affichage de points d'arrêts de l'utilisateur 1 (ce ne sont pas ses vraies coordonnées)\n",
        "\n",
        "# plot(stop_point_id1)\n",
        "plot_points(stop_point_id1[:,0], stop_point_id1[:,1]) # ici [:,0] signifie que l'on sélectionne\n",
        "                                                      # toutes les données de la première colonne\n",
        "                                                      # de stop_points_id1 (idem pour [:,1] avec\n",
        "                                                      # la seconde colonne)."
      ]
    },
    {
      "cell_type": "markdown",
      "metadata": {
        "hideCode": false,
        "hideOutput": true,
        "hidePrompt": false,
        "tags": [],
        "id": "uXQL6QZKv9wd"
      },
      "source": [
        "### Q5 [30 pts]\n",
        "- Implémenter une attaque qui utilise un algorithme de clustering du type k-moyennes (kmean) pour essayer de trouver des groupes de localisation dont la localisation moyenne ou médianes pourrait correspondre à un point d'intérêt (par exemple la maison). Cet algorithme pourra prendre en entrée soit la trace totale, soit le résultat de  l'attaque précédente et retournera en sortie une représentation des différents groupes (clusters) découverts.\n",
        "- Visualiser le résultat"
      ]
    },
    {
      "cell_type": "markdown",
      "metadata": {
        "id": "mPDrknvWv9wd"
      },
      "source": [
        "#### Aide\n",
        "\n",
        "- Pour cette question nous vous proposons d'utiliser l'algorithme [DBSCAN](https://scikit-learn.org/stable/modules/generated/sklearn.cluster.DBSCAN.html) pour clusteriser les points. D'[autres algorithmes](https://scikit-learn.org/stable/modules/classes.html#module-sklearn.cluster) de clustering existent (p. e. [KMeans](https://scikit-learn.org/stable/modules/generated/sklearn.cluster.KMeans.html)). Vous êtes invités à les expérimenter, afin de voir les différences de résultats, mais ce n'est pas obligatoire. Pour plus d'informations sur la clusterisation de points GPS vous pouvez consulter [ce tutoriel](https://chih-ling-hsu.github.io/2018/01/02/clustering-python).\n"
      ]
    },
    {
      "cell_type": "code",
      "execution_count": null,
      "metadata": {
        "id": "wly0bkimv9wd"
      },
      "outputs": [],
      "source": [
        "from sklearn.cluster import DBSCAN"
      ]
    },
    {
      "cell_type": "markdown",
      "metadata": {
        "id": "PihtUFmUv9wd"
      },
      "source": [
        "- Pour mesurer les distances entre des points GPS il faut d'abord les convertir en radians. Pour ça vous pouvez utiliser la [fonction](https://numpy.org/doc/stable/reference/generated/numpy.radians.html) `radians()` de `numpy`."
      ]
    },
    {
      "cell_type": "code",
      "execution_count": null,
      "metadata": {
        "id": "rsphYC8tv9wd"
      },
      "outputs": [],
      "source": [
        "X = stop_point_id1 # convertir en radians, à modifier"
      ]
    },
    {
      "cell_type": "markdown",
      "metadata": {
        "id": "Uoi8NsSVv9wd"
      },
      "source": [
        "- DBSCAN dispose de plusieurs paramètres :\n",
        "\n",
        "    - le paramètre epsilon, il définit la distance maximale pour que deux points soient considérés comme appartenant au même cluster.\n",
        "\n",
        "    - le paramètre min-sample, il définit le nombre de point minimum qui doivent se trouver dans un rayon epsilon d'un point pour que celui-ci soit considéré comme un point noyau.\n",
        "\n",
        "    - l'algorithme d'indexation utilisé par DBSCAN pour clusteriser les points (ici ball_tree). C'est un paramètre d'optimisation pour le calcul des clusters.\n",
        "\n",
        "    - la métrique à utiliser comme distance entre les points. Ici nous utilisons haversine qui est une distance pour les points GPS (la terre étant ronde, l'utilisation de la distance euclidienne est à bannir).\n",
        "    \n",
        "    - Comme les points sont exprimés en radians, la distance epsilon doit être exprimée en radians aussi. Il faut alors la diviser par le rayon de la terre, soit environ 6366,707km (évidemment epsilon doit être exprimé dans la même unité que celle du rayon de la terre)."
      ]
    },
    {
      "cell_type": "code",
      "execution_count": null,
      "metadata": {
        "id": "UhvGY6sfv9wd"
      },
      "outputs": [],
      "source": [
        "eps = 1         # à modifier\n",
        "min_samples = 0  # à modifier\n",
        "db = DBSCAN(eps=eps, min_samples=min_samples, algorithm='ball_tree', metric='haversine').fit(X)"
      ]
    },
    {
      "cell_type": "code",
      "execution_count": null,
      "metadata": {
        "id": "Rz1JBZHAv9wd"
      },
      "outputs": [],
      "source": [
        "print(\"Nombre de clusters créer : \", len(set(db.labels_)) - 1)"
      ]
    },
    {
      "cell_type": "markdown",
      "metadata": {
        "id": "wQJVtCKPv9we"
      },
      "source": [
        "- Nous vous fournissons aussi deux fonctions qui:\n",
        "\n",
        "    - étant donnée un cluster de points retourne le centroids de ce cluster: `compute_centroid`\n",
        "    - et la fonction pour l'affichage des points d'arrêts: `plot_points`\n"
      ]
    },
    {
      "cell_type": "markdown",
      "metadata": {
        "id": "s22_QPHCv9we"
      },
      "source": [
        "#### Format des résultats"
      ]
    },
    {
      "cell_type": "code",
      "execution_count": null,
      "metadata": {
        "id": "LLMmgs-Zv9we"
      },
      "outputs": [],
      "source": [
        "# Attention ici nous calculons le centroid **D'UN SEUL** cluster de points.\n",
        "# Il y a plusieurs clusters de points par individu et plusieurs individus (id1, id2 et id3).\n",
        "\n",
        "lat_cluster_1 = np.array([0,2,4]) # à modifier\n",
        "lng_cluster_1 = np.array([1,3,5]) # à modifier\n",
        "centroid = compute_centroid(lat_cluster_1, lng_cluster_1) # calcul du centroid d'un cluster de points inventés"
      ]
    },
    {
      "cell_type": "markdown",
      "metadata": {
        "id": "Y2G04fAbv9we"
      },
      "source": [
        "#### Affichage"
      ]
    },
    {
      "cell_type": "markdown",
      "metadata": {
        "id": "DZflmPYev9we"
      },
      "source": [
        "Pour chaque fichier (id) afficher les centroids des clusters des points d'arrêts"
      ]
    },
    {
      "cell_type": "code",
      "execution_count": null,
      "metadata": {
        "id": "PJvhvMsnv9we"
      },
      "outputs": [],
      "source": [
        "# plot(stop_point_id1)\n",
        "# plot(stop_point_id2)\n",
        "# plot(stop_point_id3)"
      ]
    },
    {
      "cell_type": "markdown",
      "metadata": {
        "id": "AcDlrwSPv9we"
      },
      "source": [
        "### Q6 [10 pts]\n",
        "- Que pouvez vous déduire sur l'utilisateur 1, l'utilisateur 2 et l'utilisateur 3 à partir des résultats de la question 4 ?"
      ]
    },
    {
      "cell_type": "markdown",
      "metadata": {
        "id": "gtorBzOBv9wf"
      },
      "source": [
        "### Q7 [10 pts]\n",
        "- Que pouvez vous déduire sur l'utilisateur 1, l'utilisateur 2 et l'utilisateur 3 à partir des résultats de la question 5 ?"
      ]
    }
  ],
  "metadata": {
    "hide_code_all_hidden": false,
    "kernelspec": {
      "display_name": "Python 3.10.6 64-bit",
      "language": "python",
      "name": "python3"
    },
    "language_info": {
      "codemirror_mode": {
        "name": "ipython",
        "version": 3
      },
      "file_extension": ".py",
      "mimetype": "text/x-python",
      "name": "python",
      "nbconvert_exporter": "python",
      "pygments_lexer": "ipython3",
      "version": "3.9.13"
    },
    "vscode": {
      "interpreter": {
        "hash": "b0fa6594d8f4cbf19f97940f81e996739fb7646882a419484c72d19e05852a7e"
      }
    },
    "colab": {
      "provenance": []
    }
  },
  "nbformat": 4,
  "nbformat_minor": 0
}