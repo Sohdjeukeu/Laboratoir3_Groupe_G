{
  "cells": [
    {
      "cell_type": "markdown",
      "metadata": {
        "id": "view-in-github",
        "colab_type": "text"
      },
      "source": [
        "<a href=\"https://colab.research.google.com/github/Sohdjeukeu/Laboratoire3_Groupe_G/blob/main/labo3-enonce.ipynb\" target=\"_parent\"><img src=\"https://colab.research.google.com/assets/colab-badge.svg\" alt=\"Open In Colab\"/></a>"
      ]
    },
    {
      "cell_type": "markdown",
      "metadata": {
        "hideCode": false,
        "hidePrompt": false,
        "id": "YPNp6HIAv9wW"
      },
      "source": [
        "# GTI720 - Protection des renseignements personnels\n",
        "\n",
        "## Laboratoire 3 : Geoprivacy"
      ]
    },
    {
      "cell_type": "markdown",
      "metadata": {
        "id": "9QyXXitqv9wX"
      },
      "source": [
        "# Description\n",
        "Le but de ce laboratoire est de vous familiariser avec l'analyse et les attaques par inférence sur des données géolocalisées. Plus précisément, vous allez travailler sur trois fichiers représentant les traces de mobilité de différents individus collectées pendant plusieurs mois. Pour deux d’entre eux, il s’agit de taxis de San Francisco, pour l’autre d’un individu Français. Il vous faudra analyser ces traces de mobilité en essayant d'y extraire des informations telles que les \"hotspots\" (points de la carte très fréquentées) et si c'est possible les points d'intérêts concernant les individus dont vous avez reçu les traces. Pour cela, vous utiliserez **Python dans ce notebook**, la visualisation de données géographiques, mais vous avez évidemment le droit d'utiliser d'autres sources publiques d'information (telles que PagesJaunes, YahooMaps ou Google Streetview par exemple)."
      ]
    },
    {
      "cell_type": "markdown",
      "metadata": {
        "id": "PVgcAz2av9wY"
      },
      "source": [
        "# Partie 0: Setup\n",
        "\n",
        "- Créer un environnement python nommé `geoprivacy`\n",
        "- Installer la librairie `scikit-mobility`"
      ]
    },
    {
      "cell_type": "markdown",
      "source": [
        "# installons la librairie scikit-mobility"
      ],
      "metadata": {
        "id": "5GSzmPy_v_wL"
      }
    },
    {
      "cell_type": "code",
      "source": [
        "#!pip install scikit-mobility"
      ],
      "metadata": {
        "id": "T1A5VqsTwJ6a"
      },
      "execution_count": 29,
      "outputs": []
    },
    {
      "cell_type": "code",
      "source": [
        "# vérifier que la bibliothèque est bien installée\n",
        "import skmob as sk\n",
        "sk.__version__\n"
      ],
      "metadata": {
        "id": "VGszytHI-dOr",
        "outputId": "9d51be1b-4e77-4bd5-f910-d1dd24eeb2fd",
        "colab": {
          "base_uri": "https://localhost:8080/",
          "height": 35
        }
      },
      "execution_count": null,
      "outputs": [
        {
          "output_type": "execute_result",
          "data": {
            "text/plain": [
              "'1.3.1'"
            ],
            "application/vnd.google.colaboratory.intrinsic+json": {
              "type": "string"
            }
          },
          "metadata": {},
          "execution_count": 14
        }
      ]
    },
    {
      "cell_type": "code",
      "execution_count": null,
      "metadata": {
        "id": "bJrRf5HPv9wZ"
      },
      "outputs": [],
      "source": [
        "def spacial_dist(lat_1, lng_1, lat_2, lng_2):\n",
        "    \"\"\"\n",
        "    Calcule la distance entre deux points. Les points doivent être exprimés\n",
        "    en coordoonées GPS (float). La distance est exprimée en mètre.\n",
        "    \"\"\"\n",
        "    if (lat_1 == lat_2 and lng_1 == lng_2):\n",
        "        return 0.0\n",
        "\n",
        "    er = 6366707\n",
        "    latFrom = np.radians(lat_1)\n",
        "    latTo = np.radians(lat_2)\n",
        "    lngFrom = np.radians(lng_1)\n",
        "    lngTo = np.radians(lng_2)\n",
        "\n",
        "    return np.arccos(\n",
        "        np.sin(latFrom) * np.sin(latTo)+\\\n",
        "        np.cos(latFrom) * np.cos(latTo) * np.cos(lngTo - lngFrom)\n",
        "        )* er"
      ]
    },
    {
      "cell_type": "code",
      "execution_count": null,
      "metadata": {
        "id": "w8XayKktv9wa"
      },
      "outputs": [],
      "source": [
        "def time_diff(time_1, time_2):\n",
        "    \"\"\"\n",
        "    Calcul de la différence entre deux valeurs de datetime. La différence\n",
        "    est exprimée en seconde.\n",
        "    \"\"\"\n",
        "\n",
        "    return np.timedelta64(time_2 - time_1, 's').astype(\"int\") if time_2 > time_1 else np.timedelta64(time_1 - time_2, \"s\").astype(\"int\")"
      ]
    },
    {
      "cell_type": "code",
      "execution_count": null,
      "metadata": {
        "id": "NUeSh_bvv9wa"
      },
      "outputs": [],
      "source": [
        "def calcul_vitesse_point(lat_1, lng_1, time_1, lat_2, lng_2, time_2):\n",
        "    \"\"\"\n",
        "    Calcul la vitesse entre deux points.\n",
        "\n",
        "    lat_1, lng_1, time_1 : latitude, longitude et temps du premier point\n",
        "    lat_2, lng_2, time_2 : latitude, longitude et temps du second point\n",
        "\n",
        "    return: vit, la vitesse entre ces deux points en mètre/seconde.\n",
        "\n",
        "    \"\"\"\n",
        "    return spacial_dist(lat_1, lng_1, lat_2, lng_2) / time_diff(time_1, time_2) if time_diff(time_1, time_2) > 0 else 0\n"
      ]
    },
    {
      "cell_type": "code",
      "execution_count": null,
      "metadata": {
        "id": "a9s7hU1Sv9wa"
      },
      "outputs": [],
      "source": [
        "# vectorisation de la focntion calcul_vitesse_point\n",
        "f = np.vectorize(calcul_vitesse_point)"
      ]
    },
    {
      "cell_type": "code",
      "execution_count": null,
      "metadata": {
        "id": "YrpO8La8v9wa"
      },
      "outputs": [],
      "source": [
        "def plot_points(lat_array, lng_array, zoom=6):\n",
        "    \"\"\" Affiche les points représentés par lat_array et lng_array sur une carte Folium.\n",
        "    :lat_array: tableau des latitudes.\n",
        "    :lng_array: tableau des longitudes.\n",
        "\n",
        "    :return: une carte Folium des points.\n",
        "    \"\"\"\n",
        "\n",
        "    lat_array = np.array(lat_array)\n",
        "    lng_array = np.array(lng_array)\n",
        "\n",
        "    assert lat_array.shape[0] == lng_array.shape[0], \"Les tableaux de latitudes et longitudes ne sont pas de la meme taille !\"\n",
        "\n",
        "    size_a = lat_array.shape[0]\n",
        "    center = [np.sum(lat_array)/size_a, np.sum(lng_array)/size_a]\n",
        "    mymap = folium.Map(location=center, zoom_start=zoom, tiles='Stamen Toner')\n",
        "\n",
        "    for i in range(0, size_a):\n",
        "        folium.CircleMarker(location=[lat_array[i], lng_array[i]], radius=5, color='blue').add_to(mymap)\n",
        "\n",
        "    return mymap"
      ]
    },
    {
      "cell_type": "code",
      "execution_count": null,
      "metadata": {
        "id": "deSOwdoYv9wa"
      },
      "outputs": [],
      "source": [
        "def compute_centroid(arr_lat, arr_lng):\n",
        "    \"\"\"\n",
        "    arr_lat: tableau des latitudes\n",
        "    arr_lng: tableau des longitudes\n",
        "    \"\"\"\n",
        "\n",
        "    xx = np.cos(np.radians(arr_lat)) * np.cos(np.radians(arr_lng))\n",
        "    yy = np.cos(np.radians(arr_lat)) * np.sin(np.radians(arr_lng))\n",
        "    zz = np.sin(np.radians(arr_lat))\n",
        "\n",
        "    xxx = xx.sum() / xx.shape[0]\n",
        "    yyy = yy.sum() / xx.shape[0]\n",
        "    zzz = zz.sum() / xx.shape[0]\n",
        "\n",
        "    assert (xx.shape[0] == yy.shape[0] and xx.shape[0] == zz.shape[0])\n",
        "\n",
        "    central_longitude = np.arctan2(yyy, xxx)\n",
        "    central_square_root = np.sqrt(xxx * xxx + yyy * yyy)\n",
        "    central_latitude = np.arctan2(zzz, central_square_root)\n",
        "\n",
        "    return np.array([np.degrees(central_latitude), np.degrees(central_longitude)])"
      ]
    },
    {
      "cell_type": "markdown",
      "metadata": {
        "hideCode": false,
        "hidePrompt": false,
        "id": "q_T5QvLuv9wa"
      },
      "source": [
        "# Partie 1 : Visualisation des données"
      ]
    },
    {
      "cell_type": "markdown",
      "metadata": {
        "id": "duqI6H4Qv9wb"
      },
      "source": [
        "Vous devez pour cette partie, lire et afficher ces traces de mobilités."
      ]
    },
    {
      "cell_type": "markdown",
      "metadata": {
        "id": "_B2RK7QPv9wb"
      },
      "source": [
        "### Q1 [5pts]\n",
        "- À partir des fichiers `ID1.csv`,`ID2.csv` et `ID3.csv` créer un dataframe dont les colonnes sont [\"latitude\", \"longitude\", \"time\", \"user_id\"]\n",
        "- user_id: identifiant (1, 2, 3) selon l'utilisateur"
      ]
    },
    {
      "cell_type": "markdown",
      "source": [
        "## Importation des fichiers ID1.csv, ID2.csv et ID3.csv\n"
      ],
      "metadata": {
        "id": "HNapgVbyQG53"
      }
    },
    {
      "cell_type": "code",
      "source": [
        "data1 = pd.read_csv(\"/content/data_labo3/ID1.csv\", sep=\";\")\n",
        "data2 = pd.read_csv(\"/content/data_labo3/ID2.csv\", sep=\";\")\n",
        "data3 = pd.read_csv(\"/content/data_labo3/ID3.csv\", sep=\";\")"
      ],
      "metadata": {
        "id": "WEHu6ddEQnaq"
      },
      "execution_count": 30,
      "outputs": []
    },
    {
      "cell_type": "code",
      "source": [
        "data1.head()"
      ],
      "metadata": {
        "id": "q3mCzoLsQ-Os",
        "outputId": "b60c07e9-470d-400e-8898-652f5ce53f27",
        "colab": {
          "base_uri": "https://localhost:8080/",
          "height": 206
        }
      },
      "execution_count": 31,
      "outputs": [
        {
          "output_type": "execute_result",
          "data": {
            "text/plain": [
              "         latitude,longitude,time\n",
              "0  +43.44383,+6.76728,1254493883\n",
              "1  +43.44383,+6.76728,1254560773\n",
              "2  +43.48308,+1.57029,1254562354\n",
              "3  +43.49010,+1.56436,1254562414\n",
              "4  +43.50372,+1.55787,1254562475"
            ],
            "text/html": [
              "\n",
              "  <div id=\"df-486a1048-d5e7-4a9a-9bdf-5c7b71261e7f\" class=\"colab-df-container\">\n",
              "    <div>\n",
              "<style scoped>\n",
              "    .dataframe tbody tr th:only-of-type {\n",
              "        vertical-align: middle;\n",
              "    }\n",
              "\n",
              "    .dataframe tbody tr th {\n",
              "        vertical-align: top;\n",
              "    }\n",
              "\n",
              "    .dataframe thead th {\n",
              "        text-align: right;\n",
              "    }\n",
              "</style>\n",
              "<table border=\"1\" class=\"dataframe\">\n",
              "  <thead>\n",
              "    <tr style=\"text-align: right;\">\n",
              "      <th></th>\n",
              "      <th>latitude,longitude,time</th>\n",
              "    </tr>\n",
              "  </thead>\n",
              "  <tbody>\n",
              "    <tr>\n",
              "      <th>0</th>\n",
              "      <td>+43.44383,+6.76728,1254493883</td>\n",
              "    </tr>\n",
              "    <tr>\n",
              "      <th>1</th>\n",
              "      <td>+43.44383,+6.76728,1254560773</td>\n",
              "    </tr>\n",
              "    <tr>\n",
              "      <th>2</th>\n",
              "      <td>+43.48308,+1.57029,1254562354</td>\n",
              "    </tr>\n",
              "    <tr>\n",
              "      <th>3</th>\n",
              "      <td>+43.49010,+1.56436,1254562414</td>\n",
              "    </tr>\n",
              "    <tr>\n",
              "      <th>4</th>\n",
              "      <td>+43.50372,+1.55787,1254562475</td>\n",
              "    </tr>\n",
              "  </tbody>\n",
              "</table>\n",
              "</div>\n",
              "    <div class=\"colab-df-buttons\">\n",
              "\n",
              "  <div class=\"colab-df-container\">\n",
              "    <button class=\"colab-df-convert\" onclick=\"convertToInteractive('df-486a1048-d5e7-4a9a-9bdf-5c7b71261e7f')\"\n",
              "            title=\"Convert this dataframe to an interactive table.\"\n",
              "            style=\"display:none;\">\n",
              "\n",
              "  <svg xmlns=\"http://www.w3.org/2000/svg\" height=\"24px\" viewBox=\"0 -960 960 960\">\n",
              "    <path d=\"M120-120v-720h720v720H120Zm60-500h600v-160H180v160Zm220 220h160v-160H400v160Zm0 220h160v-160H400v160ZM180-400h160v-160H180v160Zm440 0h160v-160H620v160ZM180-180h160v-160H180v160Zm440 0h160v-160H620v160Z\"/>\n",
              "  </svg>\n",
              "    </button>\n",
              "\n",
              "  <style>\n",
              "    .colab-df-container {\n",
              "      display:flex;\n",
              "      gap: 12px;\n",
              "    }\n",
              "\n",
              "    .colab-df-convert {\n",
              "      background-color: #E8F0FE;\n",
              "      border: none;\n",
              "      border-radius: 50%;\n",
              "      cursor: pointer;\n",
              "      display: none;\n",
              "      fill: #1967D2;\n",
              "      height: 32px;\n",
              "      padding: 0 0 0 0;\n",
              "      width: 32px;\n",
              "    }\n",
              "\n",
              "    .colab-df-convert:hover {\n",
              "      background-color: #E2EBFA;\n",
              "      box-shadow: 0px 1px 2px rgba(60, 64, 67, 0.3), 0px 1px 3px 1px rgba(60, 64, 67, 0.15);\n",
              "      fill: #174EA6;\n",
              "    }\n",
              "\n",
              "    .colab-df-buttons div {\n",
              "      margin-bottom: 4px;\n",
              "    }\n",
              "\n",
              "    [theme=dark] .colab-df-convert {\n",
              "      background-color: #3B4455;\n",
              "      fill: #D2E3FC;\n",
              "    }\n",
              "\n",
              "    [theme=dark] .colab-df-convert:hover {\n",
              "      background-color: #434B5C;\n",
              "      box-shadow: 0px 1px 3px 1px rgba(0, 0, 0, 0.15);\n",
              "      filter: drop-shadow(0px 1px 2px rgba(0, 0, 0, 0.3));\n",
              "      fill: #FFFFFF;\n",
              "    }\n",
              "  </style>\n",
              "\n",
              "    <script>\n",
              "      const buttonEl =\n",
              "        document.querySelector('#df-486a1048-d5e7-4a9a-9bdf-5c7b71261e7f button.colab-df-convert');\n",
              "      buttonEl.style.display =\n",
              "        google.colab.kernel.accessAllowed ? 'block' : 'none';\n",
              "\n",
              "      async function convertToInteractive(key) {\n",
              "        const element = document.querySelector('#df-486a1048-d5e7-4a9a-9bdf-5c7b71261e7f');\n",
              "        const dataTable =\n",
              "          await google.colab.kernel.invokeFunction('convertToInteractive',\n",
              "                                                    [key], {});\n",
              "        if (!dataTable) return;\n",
              "\n",
              "        const docLinkHtml = 'Like what you see? Visit the ' +\n",
              "          '<a target=\"_blank\" href=https://colab.research.google.com/notebooks/data_table.ipynb>data table notebook</a>'\n",
              "          + ' to learn more about interactive tables.';\n",
              "        element.innerHTML = '';\n",
              "        dataTable['output_type'] = 'display_data';\n",
              "        await google.colab.output.renderOutput(dataTable, element);\n",
              "        const docLink = document.createElement('div');\n",
              "        docLink.innerHTML = docLinkHtml;\n",
              "        element.appendChild(docLink);\n",
              "      }\n",
              "    </script>\n",
              "  </div>\n",
              "\n",
              "\n",
              "<div id=\"df-e524db0a-d6b6-4474-9b11-9beb06fa41db\">\n",
              "  <button class=\"colab-df-quickchart\" onclick=\"quickchart('df-e524db0a-d6b6-4474-9b11-9beb06fa41db')\"\n",
              "            title=\"Suggest charts\"\n",
              "            style=\"display:none;\">\n",
              "\n",
              "<svg xmlns=\"http://www.w3.org/2000/svg\" height=\"24px\"viewBox=\"0 0 24 24\"\n",
              "     width=\"24px\">\n",
              "    <g>\n",
              "        <path d=\"M19 3H5c-1.1 0-2 .9-2 2v14c0 1.1.9 2 2 2h14c1.1 0 2-.9 2-2V5c0-1.1-.9-2-2-2zM9 17H7v-7h2v7zm4 0h-2V7h2v10zm4 0h-2v-4h2v4z\"/>\n",
              "    </g>\n",
              "</svg>\n",
              "  </button>\n",
              "\n",
              "<style>\n",
              "  .colab-df-quickchart {\n",
              "      --bg-color: #E8F0FE;\n",
              "      --fill-color: #1967D2;\n",
              "      --hover-bg-color: #E2EBFA;\n",
              "      --hover-fill-color: #174EA6;\n",
              "      --disabled-fill-color: #AAA;\n",
              "      --disabled-bg-color: #DDD;\n",
              "  }\n",
              "\n",
              "  [theme=dark] .colab-df-quickchart {\n",
              "      --bg-color: #3B4455;\n",
              "      --fill-color: #D2E3FC;\n",
              "      --hover-bg-color: #434B5C;\n",
              "      --hover-fill-color: #FFFFFF;\n",
              "      --disabled-bg-color: #3B4455;\n",
              "      --disabled-fill-color: #666;\n",
              "  }\n",
              "\n",
              "  .colab-df-quickchart {\n",
              "    background-color: var(--bg-color);\n",
              "    border: none;\n",
              "    border-radius: 50%;\n",
              "    cursor: pointer;\n",
              "    display: none;\n",
              "    fill: var(--fill-color);\n",
              "    height: 32px;\n",
              "    padding: 0;\n",
              "    width: 32px;\n",
              "  }\n",
              "\n",
              "  .colab-df-quickchart:hover {\n",
              "    background-color: var(--hover-bg-color);\n",
              "    box-shadow: 0 1px 2px rgba(60, 64, 67, 0.3), 0 1px 3px 1px rgba(60, 64, 67, 0.15);\n",
              "    fill: var(--button-hover-fill-color);\n",
              "  }\n",
              "\n",
              "  .colab-df-quickchart-complete:disabled,\n",
              "  .colab-df-quickchart-complete:disabled:hover {\n",
              "    background-color: var(--disabled-bg-color);\n",
              "    fill: var(--disabled-fill-color);\n",
              "    box-shadow: none;\n",
              "  }\n",
              "\n",
              "  .colab-df-spinner {\n",
              "    border: 2px solid var(--fill-color);\n",
              "    border-color: transparent;\n",
              "    border-bottom-color: var(--fill-color);\n",
              "    animation:\n",
              "      spin 1s steps(1) infinite;\n",
              "  }\n",
              "\n",
              "  @keyframes spin {\n",
              "    0% {\n",
              "      border-color: transparent;\n",
              "      border-bottom-color: var(--fill-color);\n",
              "      border-left-color: var(--fill-color);\n",
              "    }\n",
              "    20% {\n",
              "      border-color: transparent;\n",
              "      border-left-color: var(--fill-color);\n",
              "      border-top-color: var(--fill-color);\n",
              "    }\n",
              "    30% {\n",
              "      border-color: transparent;\n",
              "      border-left-color: var(--fill-color);\n",
              "      border-top-color: var(--fill-color);\n",
              "      border-right-color: var(--fill-color);\n",
              "    }\n",
              "    40% {\n",
              "      border-color: transparent;\n",
              "      border-right-color: var(--fill-color);\n",
              "      border-top-color: var(--fill-color);\n",
              "    }\n",
              "    60% {\n",
              "      border-color: transparent;\n",
              "      border-right-color: var(--fill-color);\n",
              "    }\n",
              "    80% {\n",
              "      border-color: transparent;\n",
              "      border-right-color: var(--fill-color);\n",
              "      border-bottom-color: var(--fill-color);\n",
              "    }\n",
              "    90% {\n",
              "      border-color: transparent;\n",
              "      border-bottom-color: var(--fill-color);\n",
              "    }\n",
              "  }\n",
              "</style>\n",
              "\n",
              "  <script>\n",
              "    async function quickchart(key) {\n",
              "      const quickchartButtonEl =\n",
              "        document.querySelector('#' + key + ' button');\n",
              "      quickchartButtonEl.disabled = true;  // To prevent multiple clicks.\n",
              "      quickchartButtonEl.classList.add('colab-df-spinner');\n",
              "      try {\n",
              "        const charts = await google.colab.kernel.invokeFunction(\n",
              "            'suggestCharts', [key], {});\n",
              "      } catch (error) {\n",
              "        console.error('Error during call to suggestCharts:', error);\n",
              "      }\n",
              "      quickchartButtonEl.classList.remove('colab-df-spinner');\n",
              "      quickchartButtonEl.classList.add('colab-df-quickchart-complete');\n",
              "    }\n",
              "    (() => {\n",
              "      let quickchartButtonEl =\n",
              "        document.querySelector('#df-e524db0a-d6b6-4474-9b11-9beb06fa41db button');\n",
              "      quickchartButtonEl.style.display =\n",
              "        google.colab.kernel.accessAllowed ? 'block' : 'none';\n",
              "    })();\n",
              "  </script>\n",
              "</div>\n",
              "\n",
              "    </div>\n",
              "  </div>\n"
            ],
            "application/vnd.google.colaboratory.intrinsic+json": {
              "type": "dataframe",
              "variable_name": "data1",
              "summary": "{\n  \"name\": \"data1\",\n  \"rows\": 1988,\n  \"fields\": [\n    {\n      \"column\": \"latitude,longitude,time\",\n      \"properties\": {\n        \"dtype\": \"string\",\n        \"num_unique_values\": 1987,\n        \"samples\": [\n          \"+43.46179,+1.57160,1254589233\",\n          \"+43.45843,+1.57175,1274982875\",\n          \"+43.45836,+1.57176,1265846226\"\n        ],\n        \"semantic_type\": \"\",\n        \"description\": \"\"\n      }\n    }\n  ]\n}"
            }
          },
          "metadata": {},
          "execution_count": 31
        }
      ]
    },
    {
      "cell_type": "code",
      "source": [
        "data2.head()"
      ],
      "metadata": {
        "id": "p8ytPkcCRBkL",
        "outputId": "f08a0824-9bd2-46c8-ed60-a1d36873bb6f",
        "colab": {
          "base_uri": "https://localhost:8080/",
          "height": 206
        }
      },
      "execution_count": 32,
      "outputs": [
        {
          "output_type": "execute_result",
          "data": {
            "text/plain": [
              "       latitude,longitude,bool,time\n",
              "0  37.65256,-122.45281,0,1212984507\n",
              "1  37.65468,-122.45301,0,1212984438\n",
              "2  37.65382,-122.44846,0,1212984394\n",
              "3  37.65537,-122.45069,0,1212984316\n",
              "4   37.6556,-122.45364,0,1212984264"
            ],
            "text/html": [
              "\n",
              "  <div id=\"df-7ddf01f1-21ff-4f8c-9c84-6de10759e9d3\" class=\"colab-df-container\">\n",
              "    <div>\n",
              "<style scoped>\n",
              "    .dataframe tbody tr th:only-of-type {\n",
              "        vertical-align: middle;\n",
              "    }\n",
              "\n",
              "    .dataframe tbody tr th {\n",
              "        vertical-align: top;\n",
              "    }\n",
              "\n",
              "    .dataframe thead th {\n",
              "        text-align: right;\n",
              "    }\n",
              "</style>\n",
              "<table border=\"1\" class=\"dataframe\">\n",
              "  <thead>\n",
              "    <tr style=\"text-align: right;\">\n",
              "      <th></th>\n",
              "      <th>latitude,longitude,bool,time</th>\n",
              "    </tr>\n",
              "  </thead>\n",
              "  <tbody>\n",
              "    <tr>\n",
              "      <th>0</th>\n",
              "      <td>37.65256,-122.45281,0,1212984507</td>\n",
              "    </tr>\n",
              "    <tr>\n",
              "      <th>1</th>\n",
              "      <td>37.65468,-122.45301,0,1212984438</td>\n",
              "    </tr>\n",
              "    <tr>\n",
              "      <th>2</th>\n",
              "      <td>37.65382,-122.44846,0,1212984394</td>\n",
              "    </tr>\n",
              "    <tr>\n",
              "      <th>3</th>\n",
              "      <td>37.65537,-122.45069,0,1212984316</td>\n",
              "    </tr>\n",
              "    <tr>\n",
              "      <th>4</th>\n",
              "      <td>37.6556,-122.45364,0,1212984264</td>\n",
              "    </tr>\n",
              "  </tbody>\n",
              "</table>\n",
              "</div>\n",
              "    <div class=\"colab-df-buttons\">\n",
              "\n",
              "  <div class=\"colab-df-container\">\n",
              "    <button class=\"colab-df-convert\" onclick=\"convertToInteractive('df-7ddf01f1-21ff-4f8c-9c84-6de10759e9d3')\"\n",
              "            title=\"Convert this dataframe to an interactive table.\"\n",
              "            style=\"display:none;\">\n",
              "\n",
              "  <svg xmlns=\"http://www.w3.org/2000/svg\" height=\"24px\" viewBox=\"0 -960 960 960\">\n",
              "    <path d=\"M120-120v-720h720v720H120Zm60-500h600v-160H180v160Zm220 220h160v-160H400v160Zm0 220h160v-160H400v160ZM180-400h160v-160H180v160Zm440 0h160v-160H620v160ZM180-180h160v-160H180v160Zm440 0h160v-160H620v160Z\"/>\n",
              "  </svg>\n",
              "    </button>\n",
              "\n",
              "  <style>\n",
              "    .colab-df-container {\n",
              "      display:flex;\n",
              "      gap: 12px;\n",
              "    }\n",
              "\n",
              "    .colab-df-convert {\n",
              "      background-color: #E8F0FE;\n",
              "      border: none;\n",
              "      border-radius: 50%;\n",
              "      cursor: pointer;\n",
              "      display: none;\n",
              "      fill: #1967D2;\n",
              "      height: 32px;\n",
              "      padding: 0 0 0 0;\n",
              "      width: 32px;\n",
              "    }\n",
              "\n",
              "    .colab-df-convert:hover {\n",
              "      background-color: #E2EBFA;\n",
              "      box-shadow: 0px 1px 2px rgba(60, 64, 67, 0.3), 0px 1px 3px 1px rgba(60, 64, 67, 0.15);\n",
              "      fill: #174EA6;\n",
              "    }\n",
              "\n",
              "    .colab-df-buttons div {\n",
              "      margin-bottom: 4px;\n",
              "    }\n",
              "\n",
              "    [theme=dark] .colab-df-convert {\n",
              "      background-color: #3B4455;\n",
              "      fill: #D2E3FC;\n",
              "    }\n",
              "\n",
              "    [theme=dark] .colab-df-convert:hover {\n",
              "      background-color: #434B5C;\n",
              "      box-shadow: 0px 1px 3px 1px rgba(0, 0, 0, 0.15);\n",
              "      filter: drop-shadow(0px 1px 2px rgba(0, 0, 0, 0.3));\n",
              "      fill: #FFFFFF;\n",
              "    }\n",
              "  </style>\n",
              "\n",
              "    <script>\n",
              "      const buttonEl =\n",
              "        document.querySelector('#df-7ddf01f1-21ff-4f8c-9c84-6de10759e9d3 button.colab-df-convert');\n",
              "      buttonEl.style.display =\n",
              "        google.colab.kernel.accessAllowed ? 'block' : 'none';\n",
              "\n",
              "      async function convertToInteractive(key) {\n",
              "        const element = document.querySelector('#df-7ddf01f1-21ff-4f8c-9c84-6de10759e9d3');\n",
              "        const dataTable =\n",
              "          await google.colab.kernel.invokeFunction('convertToInteractive',\n",
              "                                                    [key], {});\n",
              "        if (!dataTable) return;\n",
              "\n",
              "        const docLinkHtml = 'Like what you see? Visit the ' +\n",
              "          '<a target=\"_blank\" href=https://colab.research.google.com/notebooks/data_table.ipynb>data table notebook</a>'\n",
              "          + ' to learn more about interactive tables.';\n",
              "        element.innerHTML = '';\n",
              "        dataTable['output_type'] = 'display_data';\n",
              "        await google.colab.output.renderOutput(dataTable, element);\n",
              "        const docLink = document.createElement('div');\n",
              "        docLink.innerHTML = docLinkHtml;\n",
              "        element.appendChild(docLink);\n",
              "      }\n",
              "    </script>\n",
              "  </div>\n",
              "\n",
              "\n",
              "<div id=\"df-98aeeb6d-d0a9-4cc8-8215-5c340bf6147f\">\n",
              "  <button class=\"colab-df-quickchart\" onclick=\"quickchart('df-98aeeb6d-d0a9-4cc8-8215-5c340bf6147f')\"\n",
              "            title=\"Suggest charts\"\n",
              "            style=\"display:none;\">\n",
              "\n",
              "<svg xmlns=\"http://www.w3.org/2000/svg\" height=\"24px\"viewBox=\"0 0 24 24\"\n",
              "     width=\"24px\">\n",
              "    <g>\n",
              "        <path d=\"M19 3H5c-1.1 0-2 .9-2 2v14c0 1.1.9 2 2 2h14c1.1 0 2-.9 2-2V5c0-1.1-.9-2-2-2zM9 17H7v-7h2v7zm4 0h-2V7h2v10zm4 0h-2v-4h2v4z\"/>\n",
              "    </g>\n",
              "</svg>\n",
              "  </button>\n",
              "\n",
              "<style>\n",
              "  .colab-df-quickchart {\n",
              "      --bg-color: #E8F0FE;\n",
              "      --fill-color: #1967D2;\n",
              "      --hover-bg-color: #E2EBFA;\n",
              "      --hover-fill-color: #174EA6;\n",
              "      --disabled-fill-color: #AAA;\n",
              "      --disabled-bg-color: #DDD;\n",
              "  }\n",
              "\n",
              "  [theme=dark] .colab-df-quickchart {\n",
              "      --bg-color: #3B4455;\n",
              "      --fill-color: #D2E3FC;\n",
              "      --hover-bg-color: #434B5C;\n",
              "      --hover-fill-color: #FFFFFF;\n",
              "      --disabled-bg-color: #3B4455;\n",
              "      --disabled-fill-color: #666;\n",
              "  }\n",
              "\n",
              "  .colab-df-quickchart {\n",
              "    background-color: var(--bg-color);\n",
              "    border: none;\n",
              "    border-radius: 50%;\n",
              "    cursor: pointer;\n",
              "    display: none;\n",
              "    fill: var(--fill-color);\n",
              "    height: 32px;\n",
              "    padding: 0;\n",
              "    width: 32px;\n",
              "  }\n",
              "\n",
              "  .colab-df-quickchart:hover {\n",
              "    background-color: var(--hover-bg-color);\n",
              "    box-shadow: 0 1px 2px rgba(60, 64, 67, 0.3), 0 1px 3px 1px rgba(60, 64, 67, 0.15);\n",
              "    fill: var(--button-hover-fill-color);\n",
              "  }\n",
              "\n",
              "  .colab-df-quickchart-complete:disabled,\n",
              "  .colab-df-quickchart-complete:disabled:hover {\n",
              "    background-color: var(--disabled-bg-color);\n",
              "    fill: var(--disabled-fill-color);\n",
              "    box-shadow: none;\n",
              "  }\n",
              "\n",
              "  .colab-df-spinner {\n",
              "    border: 2px solid var(--fill-color);\n",
              "    border-color: transparent;\n",
              "    border-bottom-color: var(--fill-color);\n",
              "    animation:\n",
              "      spin 1s steps(1) infinite;\n",
              "  }\n",
              "\n",
              "  @keyframes spin {\n",
              "    0% {\n",
              "      border-color: transparent;\n",
              "      border-bottom-color: var(--fill-color);\n",
              "      border-left-color: var(--fill-color);\n",
              "    }\n",
              "    20% {\n",
              "      border-color: transparent;\n",
              "      border-left-color: var(--fill-color);\n",
              "      border-top-color: var(--fill-color);\n",
              "    }\n",
              "    30% {\n",
              "      border-color: transparent;\n",
              "      border-left-color: var(--fill-color);\n",
              "      border-top-color: var(--fill-color);\n",
              "      border-right-color: var(--fill-color);\n",
              "    }\n",
              "    40% {\n",
              "      border-color: transparent;\n",
              "      border-right-color: var(--fill-color);\n",
              "      border-top-color: var(--fill-color);\n",
              "    }\n",
              "    60% {\n",
              "      border-color: transparent;\n",
              "      border-right-color: var(--fill-color);\n",
              "    }\n",
              "    80% {\n",
              "      border-color: transparent;\n",
              "      border-right-color: var(--fill-color);\n",
              "      border-bottom-color: var(--fill-color);\n",
              "    }\n",
              "    90% {\n",
              "      border-color: transparent;\n",
              "      border-bottom-color: var(--fill-color);\n",
              "    }\n",
              "  }\n",
              "</style>\n",
              "\n",
              "  <script>\n",
              "    async function quickchart(key) {\n",
              "      const quickchartButtonEl =\n",
              "        document.querySelector('#' + key + ' button');\n",
              "      quickchartButtonEl.disabled = true;  // To prevent multiple clicks.\n",
              "      quickchartButtonEl.classList.add('colab-df-spinner');\n",
              "      try {\n",
              "        const charts = await google.colab.kernel.invokeFunction(\n",
              "            'suggestCharts', [key], {});\n",
              "      } catch (error) {\n",
              "        console.error('Error during call to suggestCharts:', error);\n",
              "      }\n",
              "      quickchartButtonEl.classList.remove('colab-df-spinner');\n",
              "      quickchartButtonEl.classList.add('colab-df-quickchart-complete');\n",
              "    }\n",
              "    (() => {\n",
              "      let quickchartButtonEl =\n",
              "        document.querySelector('#df-98aeeb6d-d0a9-4cc8-8215-5c340bf6147f button');\n",
              "      quickchartButtonEl.style.display =\n",
              "        google.colab.kernel.accessAllowed ? 'block' : 'none';\n",
              "    })();\n",
              "  </script>\n",
              "</div>\n",
              "\n",
              "    </div>\n",
              "  </div>\n"
            ],
            "application/vnd.google.colaboratory.intrinsic+json": {
              "type": "dataframe",
              "variable_name": "data2",
              "summary": "{\n  \"name\": \"data2\",\n  \"rows\": 22742,\n  \"fields\": [\n    {\n      \"column\": \"latitude,longitude,bool,time\",\n      \"properties\": {\n        \"dtype\": \"string\",\n        \"num_unique_values\": 22742,\n        \"samples\": [\n          \"37.78618,-122.44032,1,1211674797\",\n          \"37.76684,-122.41796,1,1212881647\",\n          \"37.799,-122.43578,0,1212816915\"\n        ],\n        \"semantic_type\": \"\",\n        \"description\": \"\"\n      }\n    }\n  ]\n}"
            }
          },
          "metadata": {},
          "execution_count": 32
        }
      ]
    },
    {
      "cell_type": "code",
      "source": [
        "data3.head()"
      ],
      "metadata": {
        "id": "Ef4zG7BaREqz",
        "outputId": "4f7af7a8-c417-4615-dba8-34cb4a1b2e49",
        "colab": {
          "base_uri": "https://localhost:8080/",
          "height": 206
        }
      },
      "execution_count": 33,
      "outputs": [
        {
          "output_type": "execute_result",
          "data": {
            "text/plain": [
              "       latitude,longitude,bool,time\n",
              "0  37.60878,-122.38686,0,1213033635\n",
              "1    37.6273,-122.4022,0,1213033265\n",
              "2  37.65433,-122.40707,0,1213033157\n",
              "3  37.67306,-122.39026,0,1213033092\n",
              "4  37.68681,-122.39023,0,1213033030"
            ],
            "text/html": [
              "\n",
              "  <div id=\"df-09520070-7535-4480-ad68-14a944ce564b\" class=\"colab-df-container\">\n",
              "    <div>\n",
              "<style scoped>\n",
              "    .dataframe tbody tr th:only-of-type {\n",
              "        vertical-align: middle;\n",
              "    }\n",
              "\n",
              "    .dataframe tbody tr th {\n",
              "        vertical-align: top;\n",
              "    }\n",
              "\n",
              "    .dataframe thead th {\n",
              "        text-align: right;\n",
              "    }\n",
              "</style>\n",
              "<table border=\"1\" class=\"dataframe\">\n",
              "  <thead>\n",
              "    <tr style=\"text-align: right;\">\n",
              "      <th></th>\n",
              "      <th>latitude,longitude,bool,time</th>\n",
              "    </tr>\n",
              "  </thead>\n",
              "  <tbody>\n",
              "    <tr>\n",
              "      <th>0</th>\n",
              "      <td>37.60878,-122.38686,0,1213033635</td>\n",
              "    </tr>\n",
              "    <tr>\n",
              "      <th>1</th>\n",
              "      <td>37.6273,-122.4022,0,1213033265</td>\n",
              "    </tr>\n",
              "    <tr>\n",
              "      <th>2</th>\n",
              "      <td>37.65433,-122.40707,0,1213033157</td>\n",
              "    </tr>\n",
              "    <tr>\n",
              "      <th>3</th>\n",
              "      <td>37.67306,-122.39026,0,1213033092</td>\n",
              "    </tr>\n",
              "    <tr>\n",
              "      <th>4</th>\n",
              "      <td>37.68681,-122.39023,0,1213033030</td>\n",
              "    </tr>\n",
              "  </tbody>\n",
              "</table>\n",
              "</div>\n",
              "    <div class=\"colab-df-buttons\">\n",
              "\n",
              "  <div class=\"colab-df-container\">\n",
              "    <button class=\"colab-df-convert\" onclick=\"convertToInteractive('df-09520070-7535-4480-ad68-14a944ce564b')\"\n",
              "            title=\"Convert this dataframe to an interactive table.\"\n",
              "            style=\"display:none;\">\n",
              "\n",
              "  <svg xmlns=\"http://www.w3.org/2000/svg\" height=\"24px\" viewBox=\"0 -960 960 960\">\n",
              "    <path d=\"M120-120v-720h720v720H120Zm60-500h600v-160H180v160Zm220 220h160v-160H400v160Zm0 220h160v-160H400v160ZM180-400h160v-160H180v160Zm440 0h160v-160H620v160ZM180-180h160v-160H180v160Zm440 0h160v-160H620v160Z\"/>\n",
              "  </svg>\n",
              "    </button>\n",
              "\n",
              "  <style>\n",
              "    .colab-df-container {\n",
              "      display:flex;\n",
              "      gap: 12px;\n",
              "    }\n",
              "\n",
              "    .colab-df-convert {\n",
              "      background-color: #E8F0FE;\n",
              "      border: none;\n",
              "      border-radius: 50%;\n",
              "      cursor: pointer;\n",
              "      display: none;\n",
              "      fill: #1967D2;\n",
              "      height: 32px;\n",
              "      padding: 0 0 0 0;\n",
              "      width: 32px;\n",
              "    }\n",
              "\n",
              "    .colab-df-convert:hover {\n",
              "      background-color: #E2EBFA;\n",
              "      box-shadow: 0px 1px 2px rgba(60, 64, 67, 0.3), 0px 1px 3px 1px rgba(60, 64, 67, 0.15);\n",
              "      fill: #174EA6;\n",
              "    }\n",
              "\n",
              "    .colab-df-buttons div {\n",
              "      margin-bottom: 4px;\n",
              "    }\n",
              "\n",
              "    [theme=dark] .colab-df-convert {\n",
              "      background-color: #3B4455;\n",
              "      fill: #D2E3FC;\n",
              "    }\n",
              "\n",
              "    [theme=dark] .colab-df-convert:hover {\n",
              "      background-color: #434B5C;\n",
              "      box-shadow: 0px 1px 3px 1px rgba(0, 0, 0, 0.15);\n",
              "      filter: drop-shadow(0px 1px 2px rgba(0, 0, 0, 0.3));\n",
              "      fill: #FFFFFF;\n",
              "    }\n",
              "  </style>\n",
              "\n",
              "    <script>\n",
              "      const buttonEl =\n",
              "        document.querySelector('#df-09520070-7535-4480-ad68-14a944ce564b button.colab-df-convert');\n",
              "      buttonEl.style.display =\n",
              "        google.colab.kernel.accessAllowed ? 'block' : 'none';\n",
              "\n",
              "      async function convertToInteractive(key) {\n",
              "        const element = document.querySelector('#df-09520070-7535-4480-ad68-14a944ce564b');\n",
              "        const dataTable =\n",
              "          await google.colab.kernel.invokeFunction('convertToInteractive',\n",
              "                                                    [key], {});\n",
              "        if (!dataTable) return;\n",
              "\n",
              "        const docLinkHtml = 'Like what you see? Visit the ' +\n",
              "          '<a target=\"_blank\" href=https://colab.research.google.com/notebooks/data_table.ipynb>data table notebook</a>'\n",
              "          + ' to learn more about interactive tables.';\n",
              "        element.innerHTML = '';\n",
              "        dataTable['output_type'] = 'display_data';\n",
              "        await google.colab.output.renderOutput(dataTable, element);\n",
              "        const docLink = document.createElement('div');\n",
              "        docLink.innerHTML = docLinkHtml;\n",
              "        element.appendChild(docLink);\n",
              "      }\n",
              "    </script>\n",
              "  </div>\n",
              "\n",
              "\n",
              "<div id=\"df-882edb44-ac8b-4e71-8af4-4ac2a756e531\">\n",
              "  <button class=\"colab-df-quickchart\" onclick=\"quickchart('df-882edb44-ac8b-4e71-8af4-4ac2a756e531')\"\n",
              "            title=\"Suggest charts\"\n",
              "            style=\"display:none;\">\n",
              "\n",
              "<svg xmlns=\"http://www.w3.org/2000/svg\" height=\"24px\"viewBox=\"0 0 24 24\"\n",
              "     width=\"24px\">\n",
              "    <g>\n",
              "        <path d=\"M19 3H5c-1.1 0-2 .9-2 2v14c0 1.1.9 2 2 2h14c1.1 0 2-.9 2-2V5c0-1.1-.9-2-2-2zM9 17H7v-7h2v7zm4 0h-2V7h2v10zm4 0h-2v-4h2v4z\"/>\n",
              "    </g>\n",
              "</svg>\n",
              "  </button>\n",
              "\n",
              "<style>\n",
              "  .colab-df-quickchart {\n",
              "      --bg-color: #E8F0FE;\n",
              "      --fill-color: #1967D2;\n",
              "      --hover-bg-color: #E2EBFA;\n",
              "      --hover-fill-color: #174EA6;\n",
              "      --disabled-fill-color: #AAA;\n",
              "      --disabled-bg-color: #DDD;\n",
              "  }\n",
              "\n",
              "  [theme=dark] .colab-df-quickchart {\n",
              "      --bg-color: #3B4455;\n",
              "      --fill-color: #D2E3FC;\n",
              "      --hover-bg-color: #434B5C;\n",
              "      --hover-fill-color: #FFFFFF;\n",
              "      --disabled-bg-color: #3B4455;\n",
              "      --disabled-fill-color: #666;\n",
              "  }\n",
              "\n",
              "  .colab-df-quickchart {\n",
              "    background-color: var(--bg-color);\n",
              "    border: none;\n",
              "    border-radius: 50%;\n",
              "    cursor: pointer;\n",
              "    display: none;\n",
              "    fill: var(--fill-color);\n",
              "    height: 32px;\n",
              "    padding: 0;\n",
              "    width: 32px;\n",
              "  }\n",
              "\n",
              "  .colab-df-quickchart:hover {\n",
              "    background-color: var(--hover-bg-color);\n",
              "    box-shadow: 0 1px 2px rgba(60, 64, 67, 0.3), 0 1px 3px 1px rgba(60, 64, 67, 0.15);\n",
              "    fill: var(--button-hover-fill-color);\n",
              "  }\n",
              "\n",
              "  .colab-df-quickchart-complete:disabled,\n",
              "  .colab-df-quickchart-complete:disabled:hover {\n",
              "    background-color: var(--disabled-bg-color);\n",
              "    fill: var(--disabled-fill-color);\n",
              "    box-shadow: none;\n",
              "  }\n",
              "\n",
              "  .colab-df-spinner {\n",
              "    border: 2px solid var(--fill-color);\n",
              "    border-color: transparent;\n",
              "    border-bottom-color: var(--fill-color);\n",
              "    animation:\n",
              "      spin 1s steps(1) infinite;\n",
              "  }\n",
              "\n",
              "  @keyframes spin {\n",
              "    0% {\n",
              "      border-color: transparent;\n",
              "      border-bottom-color: var(--fill-color);\n",
              "      border-left-color: var(--fill-color);\n",
              "    }\n",
              "    20% {\n",
              "      border-color: transparent;\n",
              "      border-left-color: var(--fill-color);\n",
              "      border-top-color: var(--fill-color);\n",
              "    }\n",
              "    30% {\n",
              "      border-color: transparent;\n",
              "      border-left-color: var(--fill-color);\n",
              "      border-top-color: var(--fill-color);\n",
              "      border-right-color: var(--fill-color);\n",
              "    }\n",
              "    40% {\n",
              "      border-color: transparent;\n",
              "      border-right-color: var(--fill-color);\n",
              "      border-top-color: var(--fill-color);\n",
              "    }\n",
              "    60% {\n",
              "      border-color: transparent;\n",
              "      border-right-color: var(--fill-color);\n",
              "    }\n",
              "    80% {\n",
              "      border-color: transparent;\n",
              "      border-right-color: var(--fill-color);\n",
              "      border-bottom-color: var(--fill-color);\n",
              "    }\n",
              "    90% {\n",
              "      border-color: transparent;\n",
              "      border-bottom-color: var(--fill-color);\n",
              "    }\n",
              "  }\n",
              "</style>\n",
              "\n",
              "  <script>\n",
              "    async function quickchart(key) {\n",
              "      const quickchartButtonEl =\n",
              "        document.querySelector('#' + key + ' button');\n",
              "      quickchartButtonEl.disabled = true;  // To prevent multiple clicks.\n",
              "      quickchartButtonEl.classList.add('colab-df-spinner');\n",
              "      try {\n",
              "        const charts = await google.colab.kernel.invokeFunction(\n",
              "            'suggestCharts', [key], {});\n",
              "      } catch (error) {\n",
              "        console.error('Error during call to suggestCharts:', error);\n",
              "      }\n",
              "      quickchartButtonEl.classList.remove('colab-df-spinner');\n",
              "      quickchartButtonEl.classList.add('colab-df-quickchart-complete');\n",
              "    }\n",
              "    (() => {\n",
              "      let quickchartButtonEl =\n",
              "        document.querySelector('#df-882edb44-ac8b-4e71-8af4-4ac2a756e531 button');\n",
              "      quickchartButtonEl.style.display =\n",
              "        google.colab.kernel.accessAllowed ? 'block' : 'none';\n",
              "    })();\n",
              "  </script>\n",
              "</div>\n",
              "\n",
              "    </div>\n",
              "  </div>\n"
            ],
            "application/vnd.google.colaboratory.intrinsic+json": {
              "type": "dataframe",
              "variable_name": "data3",
              "summary": "{\n  \"name\": \"data3\",\n  \"rows\": 8319,\n  \"fields\": [\n    {\n      \"column\": \"latitude,longitude,bool,time\",\n      \"properties\": {\n        \"dtype\": \"string\",\n        \"num_unique_values\": 8319,\n        \"samples\": [\n          \"37.77316,-122.40305,0,1212536389\",\n          \"37.78161,-122.41574,0,1212177031\",\n          \"37.79198,-122.41087,0,1212508848\"\n        ],\n        \"semantic_type\": \"\",\n        \"description\": \"\"\n      }\n    }\n  ]\n}"
            }
          },
          "metadata": {},
          "execution_count": 33
        }
      ]
    },
    {
      "cell_type": "code",
      "source": [
        "#Combiner les DataFrames data1, data2, data3\n",
        "#data = pd.concat([data1, data2],ignore_index=True)\n",
        "#data.head()"
      ],
      "metadata": {
        "id": "u31SamHYZ6dC"
      },
      "execution_count": 40,
      "outputs": []
    },
    {
      "cell_type": "markdown",
      "metadata": {
        "id": "yyVRdX_2v9wb"
      },
      "source": [
        "### Q2 [5 pts]\n",
        "\n",
        "- À l'aide de la librairie `Scikit-Mobility` et du dataframe obtenu ci-haut, créer un `TrajDataFrame`\n",
        "- Afficher les trajectoires TrajDataFrame ainsi crées\n",
        "- Documentation: [Scikit-Mobility](https://github.com/scikit-mobility/scikit-mobility#examples)."
      ]
    },
    {
      "cell_type": "markdown",
      "metadata": {
        "id": "41N2mlH5v9wb"
      },
      "source": [
        "### Q3 [10pts]"
      ]
    },
    {
      "cell_type": "markdown",
      "metadata": {
        "id": "uLoyh9drv9wb"
      },
      "source": [
        "À partir d’une simple visualisation (on peut bien entendu zoomer), que pouvez vous inférer de ces traces de mobilité ?"
      ]
    },
    {
      "cell_type": "markdown",
      "metadata": {
        "hideCode": false,
        "hideOutput": true,
        "hidePrompt": false,
        "tags": [],
        "id": "R8l0PtKBv9wb"
      },
      "source": [
        "# Partie 2 :Attaques par inférence sur données de mobilité\n",
        "\n",
        "Vous devez pour cette partie, implémenter les deux attaques par inférence qui sont décrites ci-après."
      ]
    },
    {
      "cell_type": "markdown",
      "metadata": {
        "hideCode": false,
        "hideOutput": true,
        "hidePrompt": false,
        "tags": [],
        "id": "mFvrGnVvv9wc"
      },
      "source": [
        "### Q4 [30 pts]\n",
        "- Implémenter une attaque de type « BeginEnd » qui essaye d'identifier les points d'intérêts d'un individu en découvrant des \"trous\" dans ses traces de mobilité et en considérant le point d'arrivée et de départ avant ce trou comme des points d'intérêts possibles. Une heuristique simple pour trouver ces \"trous\" est de mesurer la vitesse atteinte à chaque point et de ne garder que les points où la vitesse de l'utilisateur est en dessous d'un seuil (3km/h par exemple).\n",
        "- Visualiser le résultat"
      ]
    },
    {
      "cell_type": "markdown",
      "metadata": {
        "id": "ql9C-NDHv9wc"
      },
      "source": [
        "#### Aide\n",
        "\n",
        "- Code: Nous vous fournissons pour ces questions les fonctions pour effectuer:\n",
        "    - le calcul de la distance entre deux points GPS: `spacial_dist`\n",
        "    - la différence entre deux informations temporelles (objet datetime): `time_diff`\n",
        "    - la vitesse d'un objet entre deux points: `calcul_vitesse_point`\n",
        "    - l'affichage des points d'arrêts: `plot_points`\n",
        "    - Ces fonctions peuvent-être utilisées telles quelles, en partie ou pas du tout."
      ]
    },
    {
      "cell_type": "markdown",
      "metadata": {
        "id": "FaQSQjDiv9wc"
      },
      "source": [
        "### Format des résultats"
      ]
    },
    {
      "cell_type": "code",
      "execution_count": null,
      "metadata": {
        "id": "0PHf2gYzv9wc",
        "outputId": "620b2e18-7de6-48cb-af28-556ab74edd43",
        "colab": {
          "base_uri": "https://localhost:8080/",
          "height": 176
        }
      },
      "outputs": [
        {
          "output_type": "error",
          "ename": "NameError",
          "evalue": "name 'df' is not defined",
          "traceback": [
            "\u001b[0;31m---------------------------------------------------------------------------\u001b[0m",
            "\u001b[0;31mNameError\u001b[0m                                 Traceback (most recent call last)",
            "\u001b[0;32m<ipython-input-11-8a591ffe7882>\u001b[0m in \u001b[0;36m<cell line: 0>\u001b[0;34m()\u001b[0m\n\u001b[1;32m      1\u001b[0m \u001b[0;31m# exemple montrant comment sélectionner les points d'un seul individus.\u001b[0m\u001b[0;34m\u001b[0m\u001b[0;34m\u001b[0m\u001b[0m\n\u001b[1;32m      2\u001b[0m \u001b[0;31m# Remplacez 1 par 2 ou 3 pour les autres individus.\u001b[0m\u001b[0;34m\u001b[0m\u001b[0;34m\u001b[0m\u001b[0m\n\u001b[0;32m----> 3\u001b[0;31m \u001b[0mpoints_id1\u001b[0m \u001b[0;34m=\u001b[0m \u001b[0mdf\u001b[0m\u001b[0;34m.\u001b[0m\u001b[0mloc\u001b[0m\u001b[0;34m[\u001b[0m\u001b[0mdf\u001b[0m\u001b[0;34m.\u001b[0m\u001b[0muser_id\u001b[0m \u001b[0;34m==\u001b[0m \u001b[0;36m1\u001b[0m\u001b[0;34m]\u001b[0m\u001b[0;34m\u001b[0m\u001b[0;34m\u001b[0m\u001b[0m\n\u001b[0m",
            "\u001b[0;31mNameError\u001b[0m: name 'df' is not defined"
          ]
        }
      ],
      "source": [
        "# exemple montrant comment sélectionner les points d'un seul individus.\n",
        "# Remplacez 1 par 2 ou 3 pour les autres individus.\n",
        "points_id1 = df.loc[df.user_id == 1]"
      ]
    },
    {
      "cell_type": "code",
      "execution_count": null,
      "metadata": {
        "id": "QtMYP9E_v9wc"
      },
      "outputs": [],
      "source": [
        "# Calculez les points d'arrêts ici, vous devez évidemment changer les valeurs des tableaux\n",
        "# ci-dessous qui ne servent qu'à illustrer le type de résultats à fournir.\n",
        "\n",
        "stop_point_id1 = np.array([0,1,2,3,4,5]).reshape((3,2)) # resultat ici de la forme d'un tableau de points :\n",
        "                                                        # [[x,y], [x', y'], ..., [x'', y'']]\n",
        "                                                        # avec x latitude et y longitude. À modifer\n",
        "\n",
        "stop_point_id2 = np.array([0,1,2,3,4,5]).reshape((3,2)) # idem. À modifier\n",
        "stop_point_id3 = np.array([0,1,2,3,4,5]).reshape((3,2)) # idem. À modifier"
      ]
    },
    {
      "cell_type": "code",
      "execution_count": null,
      "metadata": {
        "id": "L-eNvsp5v9wc"
      },
      "outputs": [],
      "source": [
        "# votre tableau de points d'arrêts doit avoir au moins deux colonnes\n",
        "# correspondant à la latitude et la longitude des points d'arrêts.\n",
        "\n",
        "assert stop_point_id1.shape[1] >= 2, \"Vous n'avez pas assez de colonnes dans votre tableau de résultats\""
      ]
    },
    {
      "cell_type": "code",
      "execution_count": null,
      "metadata": {
        "id": "hoj6FYhcv9wd"
      },
      "outputs": [],
      "source": [
        "### Exemple d'affichage de points d'arrêts de l'utilisateur 1 (ce ne sont pas ses vraies coordonnées)\n",
        "\n",
        "# plot(stop_point_id1)\n",
        "plot_points(stop_point_id1[:,0], stop_point_id1[:,1]) # ici [:,0] signifie que l'on sélectionne\n",
        "                                                      # toutes les données de la première colonne\n",
        "                                                      # de stop_points_id1 (idem pour [:,1] avec\n",
        "                                                      # la seconde colonne)."
      ]
    },
    {
      "cell_type": "markdown",
      "metadata": {
        "hideCode": false,
        "hideOutput": true,
        "hidePrompt": false,
        "tags": [],
        "id": "uXQL6QZKv9wd"
      },
      "source": [
        "### Q5 [30 pts]\n",
        "- Implémenter une attaque qui utilise un algorithme de clustering du type k-moyennes (kmean) pour essayer de trouver des groupes de localisation dont la localisation moyenne ou médianes pourrait correspondre à un point d'intérêt (par exemple la maison). Cet algorithme pourra prendre en entrée soit la trace totale, soit le résultat de  l'attaque précédente et retournera en sortie une représentation des différents groupes (clusters) découverts.\n",
        "- Visualiser le résultat"
      ]
    },
    {
      "cell_type": "markdown",
      "metadata": {
        "id": "mPDrknvWv9wd"
      },
      "source": [
        "#### Aide\n",
        "\n",
        "- Pour cette question nous vous proposons d'utiliser l'algorithme [DBSCAN](https://scikit-learn.org/stable/modules/generated/sklearn.cluster.DBSCAN.html) pour clusteriser les points. D'[autres algorithmes](https://scikit-learn.org/stable/modules/classes.html#module-sklearn.cluster) de clustering existent (p. e. [KMeans](https://scikit-learn.org/stable/modules/generated/sklearn.cluster.KMeans.html)). Vous êtes invités à les expérimenter, afin de voir les différences de résultats, mais ce n'est pas obligatoire. Pour plus d'informations sur la clusterisation de points GPS vous pouvez consulter [ce tutoriel](https://chih-ling-hsu.github.io/2018/01/02/clustering-python).\n"
      ]
    },
    {
      "cell_type": "code",
      "execution_count": null,
      "metadata": {
        "id": "wly0bkimv9wd"
      },
      "outputs": [],
      "source": [
        "from sklearn.cluster import DBSCAN"
      ]
    },
    {
      "cell_type": "markdown",
      "metadata": {
        "id": "PihtUFmUv9wd"
      },
      "source": [
        "- Pour mesurer les distances entre des points GPS il faut d'abord les convertir en radians. Pour ça vous pouvez utiliser la [fonction](https://numpy.org/doc/stable/reference/generated/numpy.radians.html) `radians()` de `numpy`."
      ]
    },
    {
      "cell_type": "code",
      "execution_count": null,
      "metadata": {
        "id": "rsphYC8tv9wd"
      },
      "outputs": [],
      "source": [
        "X = stop_point_id1 # convertir en radians, à modifier"
      ]
    },
    {
      "cell_type": "markdown",
      "metadata": {
        "id": "Uoi8NsSVv9wd"
      },
      "source": [
        "- DBSCAN dispose de plusieurs paramètres :\n",
        "\n",
        "    - le paramètre epsilon, il définit la distance maximale pour que deux points soient considérés comme appartenant au même cluster.\n",
        "\n",
        "    - le paramètre min-sample, il définit le nombre de point minimum qui doivent se trouver dans un rayon epsilon d'un point pour que celui-ci soit considéré comme un point noyau.\n",
        "\n",
        "    - l'algorithme d'indexation utilisé par DBSCAN pour clusteriser les points (ici ball_tree). C'est un paramètre d'optimisation pour le calcul des clusters.\n",
        "\n",
        "    - la métrique à utiliser comme distance entre les points. Ici nous utilisons haversine qui est une distance pour les points GPS (la terre étant ronde, l'utilisation de la distance euclidienne est à bannir).\n",
        "    \n",
        "    - Comme les points sont exprimés en radians, la distance epsilon doit être exprimée en radians aussi. Il faut alors la diviser par le rayon de la terre, soit environ 6366,707km (évidemment epsilon doit être exprimé dans la même unité que celle du rayon de la terre)."
      ]
    },
    {
      "cell_type": "code",
      "execution_count": null,
      "metadata": {
        "id": "UhvGY6sfv9wd"
      },
      "outputs": [],
      "source": [
        "eps = 1         # à modifier\n",
        "min_samples = 0  # à modifier\n",
        "db = DBSCAN(eps=eps, min_samples=min_samples, algorithm='ball_tree', metric='haversine').fit(X)"
      ]
    },
    {
      "cell_type": "code",
      "execution_count": null,
      "metadata": {
        "id": "Rz1JBZHAv9wd"
      },
      "outputs": [],
      "source": [
        "print(\"Nombre de clusters créer : \", len(set(db.labels_)) - 1)"
      ]
    },
    {
      "cell_type": "markdown",
      "metadata": {
        "id": "wQJVtCKPv9we"
      },
      "source": [
        "- Nous vous fournissons aussi deux fonctions qui:\n",
        "\n",
        "    - étant donnée un cluster de points retourne le centroids de ce cluster: `compute_centroid`\n",
        "    - et la fonction pour l'affichage des points d'arrêts: `plot_points`\n"
      ]
    },
    {
      "cell_type": "markdown",
      "metadata": {
        "id": "s22_QPHCv9we"
      },
      "source": [
        "#### Format des résultats"
      ]
    },
    {
      "cell_type": "code",
      "execution_count": null,
      "metadata": {
        "id": "LLMmgs-Zv9we"
      },
      "outputs": [],
      "source": [
        "# Attention ici nous calculons le centroid **D'UN SEUL** cluster de points.\n",
        "# Il y a plusieurs clusters de points par individu et plusieurs individus (id1, id2 et id3).\n",
        "\n",
        "lat_cluster_1 = np.array([0,2,4]) # à modifier\n",
        "lng_cluster_1 = np.array([1,3,5]) # à modifier\n",
        "centroid = compute_centroid(lat_cluster_1, lng_cluster_1) # calcul du centroid d'un cluster de points inventés"
      ]
    },
    {
      "cell_type": "markdown",
      "metadata": {
        "id": "Y2G04fAbv9we"
      },
      "source": [
        "#### Affichage"
      ]
    },
    {
      "cell_type": "markdown",
      "metadata": {
        "id": "DZflmPYev9we"
      },
      "source": [
        "Pour chaque fichier (id) afficher les centroids des clusters des points d'arrêts"
      ]
    },
    {
      "cell_type": "code",
      "execution_count": null,
      "metadata": {
        "id": "PJvhvMsnv9we"
      },
      "outputs": [],
      "source": [
        "# plot(stop_point_id1)\n",
        "# plot(stop_point_id2)\n",
        "# plot(stop_point_id3)"
      ]
    },
    {
      "cell_type": "markdown",
      "metadata": {
        "id": "AcDlrwSPv9we"
      },
      "source": [
        "### Q6 [10 pts]\n",
        "- Que pouvez vous déduire sur l'utilisateur 1, l'utilisateur 2 et l'utilisateur 3 à partir des résultats de la question 4 ?"
      ]
    },
    {
      "cell_type": "markdown",
      "metadata": {
        "id": "gtorBzOBv9wf"
      },
      "source": [
        "### Q7 [10 pts]\n",
        "- Que pouvez vous déduire sur l'utilisateur 1, l'utilisateur 2 et l'utilisateur 3 à partir des résultats de la question 5 ?"
      ]
    }
  ],
  "metadata": {
    "hide_code_all_hidden": false,
    "kernelspec": {
      "display_name": "Python 3.10.6 64-bit",
      "language": "python",
      "name": "python3"
    },
    "language_info": {
      "codemirror_mode": {
        "name": "ipython",
        "version": 3
      },
      "file_extension": ".py",
      "mimetype": "text/x-python",
      "name": "python",
      "nbconvert_exporter": "python",
      "pygments_lexer": "ipython3",
      "version": "3.9.13"
    },
    "vscode": {
      "interpreter": {
        "hash": "b0fa6594d8f4cbf19f97940f81e996739fb7646882a419484c72d19e05852a7e"
      }
    },
    "colab": {
      "provenance": [],
      "include_colab_link": true
    }
  },
  "nbformat": 4,
  "nbformat_minor": 0
}